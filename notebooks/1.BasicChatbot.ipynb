{
 "cells": [
  {
   "cell_type": "code",
   "execution_count": 1,
   "id": "85888e71",
   "metadata": {},
   "outputs": [
    {
     "data": {
      "text/plain": [
       "'c:\\\\Deepankar\\\\Projects\\\\Lang-graph-AgenticAI'"
      ]
     },
     "execution_count": 1,
     "metadata": {},
     "output_type": "execute_result"
    }
   ],
   "source": [
    "import os; os.chdir(\"..\")\n",
    "%pwd"
   ]
  },
  {
   "cell_type": "code",
   "execution_count": 2,
   "id": "e066fa4d",
   "metadata": {},
   "outputs": [
    {
     "data": {
      "text/plain": [
       "True"
      ]
     },
     "execution_count": 2,
     "metadata": {},
     "output_type": "execute_result"
    }
   ],
   "source": [
    "from dotenv import load_dotenv\n",
    "load_dotenv()"
   ]
  },
  {
   "cell_type": "code",
   "execution_count": 3,
   "id": "94cc2822",
   "metadata": {},
   "outputs": [],
   "source": [
    "from typing import Annotated\n",
    "from typing_extensions import TypedDict\n",
    "\n",
    "from langgraph.graph import StateGraph, START, END\n",
    "from langgraph.prebuilt import ToolNode, tools_condition\n",
    "from langgraph.graph.message import (\n",
    "    add_messages, # reducers: append messages to maintain context\n",
    ")"
   ]
  },
  {
   "cell_type": "code",
   "execution_count": 4,
   "id": "a0d6e3fe",
   "metadata": {},
   "outputs": [],
   "source": [
    "class State(TypedDict):\n",
    "    \"\"\"_summary_\n",
    "\n",
    "    Messages have the type `list`.\n",
    "    The `add_messages` function in the annotation defines how the state key should be updated.\n",
    "    -> In this case , it appends the messages to the list , rather than overwriting them.\n",
    "        \n",
    "    \"\"\"\n",
    "    messages:Annotated[list, add_messages]\n",
    "    \n"
   ]
  },
  {
   "cell_type": "code",
   "execution_count": 5,
   "id": "59522c20",
   "metadata": {},
   "outputs": [
    {
     "data": {
      "text/plain": [
       "<langgraph.graph.state.StateGraph at 0x1f45cbe1550>"
      ]
     },
     "execution_count": 5,
     "metadata": {},
     "output_type": "execute_result"
    }
   ],
   "source": [
    "graph_builder= StateGraph(State)\n",
    "graph_builder"
   ]
  },
  {
   "cell_type": "code",
   "execution_count": 5,
   "id": "90ecde7e",
   "metadata": {},
   "outputs": [],
   "source": [
    "from langchain_groq import ChatGroq"
   ]
  },
  {
   "cell_type": "code",
   "execution_count": 6,
   "id": "03f10fa4",
   "metadata": {},
   "outputs": [],
   "source": [
    "llm= ChatGroq(model=\"llama-3.3-70b-versatile\")"
   ]
  },
  {
   "cell_type": "code",
   "execution_count": 8,
   "id": "b0fe6250",
   "metadata": {},
   "outputs": [],
   "source": [
    "# NODE functionality\n",
    "def chatbot(state: State):\n",
    "    return {\"messages\": [llm.invoke(\n",
    "        state[\"messages\"]\n",
    "    )]}"
   ]
  },
  {
   "cell_type": "code",
   "execution_count": 10,
   "id": "6955b80d",
   "metadata": {},
   "outputs": [
    {
     "data": {
      "text/plain": [
       "('__start__', '__end__')"
      ]
     },
     "execution_count": 10,
     "metadata": {},
     "output_type": "execute_result"
    }
   ],
   "source": [
    "START, END"
   ]
  },
  {
   "cell_type": "code",
   "execution_count": 11,
   "id": "ac879026",
   "metadata": {},
   "outputs": [
    {
     "data": {
      "image/png": "[encoded data removed]",
      "text/plain": [
       "<langgraph.graph.state.CompiledStateGraph object at 0x000001F45D69B380>"
      ]
     },
     "execution_count": 11,
     "metadata": {},
     "output_type": "execute_result"
    }
   ],
   "source": [
    "# adding nodes\n",
    "graph_builder.add_node(\n",
    "    \"llm_chatbot\", \n",
    "    chatbot\n",
    ")\n",
    "\n",
    "# adding edges\n",
    "graph_builder.add_edge(START, \"llm_chatbot\")\n",
    "graph_builder.add_edge(\"llm_chatbot\", END)\n",
    "\n",
    "\n",
    "# compilation\n",
    "graph= graph_builder.compile()\n",
    "graph"
   ]
  },
  {
   "cell_type": "code",
   "execution_count": 13,
   "id": "1b488e50",
   "metadata": {},
   "outputs": [
    {
     "data": {
      "text/plain": [
       "{'messages': [HumanMessage(content='Hi', additional_kwargs={}, response_metadata={}, id='23651a8f-1cfb-491f-ab76-d4d84dc1270a'),\n",
       "  AIMessage(content=\"It's nice to meet you. Is there something I can help you with or would you like to chat?\", additional_kwargs={}, response_metadata={'token_usage': {'completion_tokens': 23, 'prompt_tokens': 36, 'total_tokens': 59, 'completion_time': 0.044898716, 'prompt_time': 0.00151901, 'queue_time': 0.05277568, 'total_time': 0.046417726}, 'model_name': 'llama-3.3-70b-versatile', 'system_fingerprint': 'fp_3f3b593e33', 'service_tier': 'on_demand', 'finish_reason': 'stop', 'logprobs': None}, id='run--3cf5fe54-c855-4dc5-873d-b0cf9735db3e-0', usage_metadata={'input_tokens': 36, 'output_tokens': 23, 'total_tokens': 59})]}"
      ]
     },
     "execution_count": 13,
     "metadata": {},
     "output_type": "execute_result"
    }
   ],
   "source": [
    "response= graph.invoke(\n",
    "    {\n",
    "        \"messages\": \"Hi\"\n",
    "    }\n",
    ")\n",
    "response"
   ]
  },
  {
   "cell_type": "code",
   "execution_count": 17,
   "id": "8eed31b6",
   "metadata": {},
   "outputs": [
    {
     "data": {
      "text/plain": [
       "[HumanMessage(content='Hi', additional_kwargs={}, response_metadata={}, id='23651a8f-1cfb-491f-ab76-d4d84dc1270a'),\n",
       " AIMessage(content=\"It's nice to meet you. Is there something I can help you with or would you like to chat?\", additional_kwargs={}, response_metadata={'token_usage': {'completion_tokens': 23, 'prompt_tokens': 36, 'total_tokens': 59, 'completion_time': 0.044898716, 'prompt_time': 0.00151901, 'queue_time': 0.05277568, 'total_time': 0.046417726}, 'model_name': 'llama-3.3-70b-versatile', 'system_fingerprint': 'fp_3f3b593e33', 'service_tier': 'on_demand', 'finish_reason': 'stop', 'logprobs': None}, id='run--3cf5fe54-c855-4dc5-873d-b0cf9735db3e-0', usage_metadata={'input_tokens': 36, 'output_tokens': 23, 'total_tokens': 59})]"
      ]
     },
     "execution_count": 17,
     "metadata": {},
     "output_type": "execute_result"
    }
   ],
   "source": [
    "response[\"messages\"]"
   ]
  },
  {
   "cell_type": "code",
   "execution_count": 19,
   "id": "c3b85a5a",
   "metadata": {},
   "outputs": [
    {
     "name": "stdout",
     "output_type": "stream",
     "text": [
      "It's nice to meet you too. Is there something I can help you with or would you like to chat?\n"
     ]
    }
   ],
   "source": [
    "for event in graph.stream({\n",
    "    \"messages\": \"Nice to meet you as well ~~~\"\n",
    "}):\n",
    "    # print(event)\n",
    "    for value in event.values():\n",
    "        print(value[\"messages\"][-1].content)"
   ]
  },
  {
   "cell_type": "markdown",
   "id": "d5a3477c",
   "metadata": {},
   "source": [
    "## chatbot-with-tools"
   ]
  },
  {
   "cell_type": "code",
   "execution_count": 7,
   "id": "b0f2cef4",
   "metadata": {},
   "outputs": [],
   "source": [
    "tools= []"
   ]
  },
  {
   "cell_type": "code",
   "execution_count": 8,
   "id": "24d22280",
   "metadata": {},
   "outputs": [],
   "source": [
    "from langchain_tavily import TavilySearch\n",
    "\n",
    "tavily_tool= TavilySearch(\n",
    "    max_results=2\n",
    ")\n",
    "tools.append(tavily_tool)"
   ]
  },
  {
   "cell_type": "code",
   "execution_count": 27,
   "id": "817461cc",
   "metadata": {},
   "outputs": [
    {
     "data": {
      "text/plain": [
       "{'query': 'vitalpeptides.us',\n",
       " 'follow_up_questions': None,\n",
       " 'answer': None,\n",
       " 'images': [],\n",
       " 'results': [{'url': 'https://www.amazon.com/Vital-Proteins-Collagen-Peptides-Pasture-Raised/dp/B00K6JUG4K',\n",
       "   'title': 'Vital Proteins Collagen Peptides Powder Advanced with Hyaluronic ...',\n",
       "   'content': 'SUPPORTS COLLAGEN PRODUCTION: With 100% daily value of Vitamin C, this Vital Proteins Collagen Peptides Advanced Powder helps promote collagen production which',\n",
       "   'score': 0.35180137,\n",
       "   'raw_content': None},\n",
       "  {'url': 'https://www.vitalproteins.com/products/collagen-peptides?srsltid=AfmBOorM_IcBBZFv5O9l4QwezG_cwURjW2ZH3ISCu0CdOJ6gvHqvc3EC',\n",
       "   'title': 'Grass Fed Collagen Peptides Powder - Vital Proteins',\n",
       "   'content': 'Our Collagen Peptides Advanced powder boasts hyaluronic acid and vitamin C, powerhouse ingredients that provide glowing wellness benefits.',\n",
       "   'score': 0.30056128,\n",
       "   'raw_content': None}],\n",
       " 'response_time': 1.03}"
      ]
     },
     "execution_count": 27,
     "metadata": {},
     "output_type": "execute_result"
    }
   ],
   "source": [
    "tavily_tool.invoke(\"vitalpeptides.us\")"
   ]
  },
  {
   "cell_type": "code",
   "execution_count": 9,
   "id": "060c1f02",
   "metadata": {},
   "outputs": [],
   "source": [
    "# custom function \n",
    "def multiply(a:int, b:int) -> int:\n",
    "    \"\"\"_summary_\n",
    "\n",
    "    Args:\n",
    "        a (int): first number\n",
    "        b (int): second number\n",
    "\n",
    "    Returns:\n",
    "        int: a*b\n",
    "    \"\"\"\n",
    "    return a*b\n",
    "\n",
    "tools.append(multiply)"
   ]
  },
  {
   "cell_type": "code",
   "execution_count": 10,
   "id": "2dbc56e4",
   "metadata": {},
   "outputs": [
    {
     "data": {
      "text/plain": [
       "[TavilySearch(max_results=2, api_wrapper=TavilySearchAPIWrapper(tavily_api_key=SecretStr('**********'), api_base_url=None)),\n",
       " <function __main__.multiply(a: int, b: int) -> int>]"
      ]
     },
     "execution_count": 10,
     "metadata": {},
     "output_type": "execute_result"
    }
   ],
   "source": [
    "tools"
   ]
  },
  {
   "cell_type": "code",
   "execution_count": 11,
   "id": "613849fd",
   "metadata": {},
   "outputs": [
    {
     "data": {
      "text/plain": [
       "RunnableBinding(bound=ChatGroq(client=<groq.resources.chat.completions.Completions object at 0x0000024F1EC657F0>, async_client=<groq.resources.chat.completions.AsyncCompletions object at 0x0000024F1EC663C0>, model_name='llama-3.3-70b-versatile', model_kwargs={}, groq_api_key=SecretStr('**********')), kwargs={'tools': [{'type': 'function', 'function': {'name': 'tavily_search', 'description': 'A search engine optimized for comprehensive, accurate, and trusted results. Useful for when you need to answer questions about current events. It not only retrieves URLs and snippets, but offers advanced search depths, domain management, time range filters, and image search, this tool delivers real-time, accurate, and citation-backed results.Input should be a search query.', 'parameters': {'properties': {'query': {'description': 'Search query to look up', 'type': 'string'}, 'include_domains': {'anyOf': [{'items': {'type': 'string'}, 'type': 'array'}, {'type': 'null'}], 'default': [], 'description': 'A list of domains to restrict search results to.\\n\\n        Use this parameter when:\\n        1. The user explicitly requests information from specific websites (e.g., \"Find climate data from nasa.gov\")\\n        2. The user mentions an organization or company without specifying the domain (e.g., \"Find information about iPhones from Apple\")\\n\\n        In both cases, you should determine the appropriate domains (e.g., [\"nasa.gov\"] or [\"apple.com\"]) and set this parameter.\\n\\n        Results will ONLY come from the specified domains - no other sources will be included.\\n        Default is None (no domain restriction).\\n        '}, 'exclude_domains': {'anyOf': [{'items': {'type': 'string'}, 'type': 'array'}, {'type': 'null'}], 'default': [], 'description': 'A list of domains to exclude from search results.\\n\\n        Use this parameter when:\\n        1. The user explicitly requests to avoid certain websites (e.g., \"Find information about climate change but not from twitter.com\")\\n        2. The user mentions not wanting results from specific organizations without naming the domain (e.g., \"Find phone reviews but nothing from Apple\")\\n\\n        In both cases, you should determine the appropriate domains to exclude (e.g., [\"twitter.com\"] or [\"apple.com\"]) and set this parameter.\\n\\n        Results will filter out all content from the specified domains.\\n        Default is None (no domain exclusion).\\n        '}, 'search_depth': {'anyOf': [{'enum': ['basic', 'advanced'], 'type': 'string'}, {'type': 'null'}], 'default': 'basic', 'description': 'Controls search thoroughness and result comprehensiveness.\\n    \\n        Use \"basic\" for simple queries requiring quick, straightforward answers.\\n        \\n        Use \"advanced\" (default) for complex queries, specialized topics, \\n        rare information, or when in-depth analysis is needed.\\n        '}, 'include_images': {'anyOf': [{'type': 'boolean'}, {'type': 'null'}], 'default': False, 'description': 'Determines if the search returns relevant images along with text results.\\n   \\n        Set to True when the user explicitly requests visuals or when images would \\n        significantly enhance understanding (e.g., \"Show me what black holes look like,\" \\n        \"Find pictures of Renaissance art\").\\n        \\n        Leave as False (default) for most informational queries where text is sufficient.\\n        '}, 'time_range': {'anyOf': [{'enum': ['day', 'week', 'month', 'year'], 'type': 'string'}, {'type': 'null'}], 'default': None, 'description': 'Limits results to content published within a specific timeframe.\\n        \\n        ONLY set this when the user explicitly mentions a time period \\n        (e.g., \"latest AI news,\" \"articles from last week\").\\n        \\n        For less popular or niche topics, use broader time ranges \\n        (\"month\" or \"year\") to ensure sufficient relevant results.\\n   \\n        Options: \"day\" (24h), \"week\" (7d), \"month\" (30d), \"year\" (365d).\\n        \\n        Default is None.\\n        '}, 'topic': {'anyOf': [{'enum': ['general', 'news', 'finance'], 'type': 'string'}, {'type': 'null'}], 'default': 'general', 'description': 'Specifies search category for optimized results.\\n   \\n        Use \"general\" (default) for most queries, INCLUDING those with terms like \\n        \"latest,\" \"newest,\" or \"recent\" when referring to general information.\\n\\n        Use \"finance\" for markets, investments, economic data, or financial news.\\n\\n        Use \"news\" ONLY for politics, sports, or major current events covered by \\n        mainstream media - NOT simply because a query asks for \"new\" information.\\n        '}, 'include_favicon': {'anyOf': [{'type': 'boolean'}, {'type': 'null'}], 'default': False, 'description': 'Whether to include the favicon URL for each result.'}}, 'required': ['query'], 'type': 'object'}}}, {'type': 'function', 'function': {'name': 'multiply', 'description': '_summary_', 'parameters': {'properties': {'a': {'description': 'first number', 'type': 'integer'}, 'b': {'description': 'second number', 'type': 'integer'}}, 'required': ['a', 'b'], 'type': 'object'}}}]}, config={}, config_factories=[])"
      ]
     },
     "execution_count": 11,
     "metadata": {},
     "output_type": "execute_result"
    }
   ],
   "source": [
    "llm_with_tools= llm.bind_tools(\n",
    "    tools\n",
    ")\n",
    "\n",
    "llm_with_tools"
   ]
  },
  {
   "cell_type": "code",
   "execution_count": 33,
   "id": "1de72bf4",
   "metadata": {},
   "outputs": [
    {
     "data": {
      "image/png": "[encoded data removed]",
      "text/plain": [
       "<langgraph.graph.state.CompiledStateGraph object at 0x000001F45F2C8910>"
      ]
     },
     "execution_count": 33,
     "metadata": {},
     "output_type": "execute_result"
    }
   ],
   "source": [
    "\n",
    "# StateGraph\n",
    "\n",
    "# NODE definition\n",
    "def tool_calling_llm(state: State):\n",
    "    return {\"messages\": [llm_with_tools.invoke(state[\"messages\"])]}\n",
    "    \n",
    "# Graph\n",
    "builder= StateGraph(State)\n",
    "builder.add_node(\"tool_calling_llm\", tool_calling_llm)\n",
    "builder.add_node(\"tools\", ToolNode(tools))\n",
    "\n",
    "\n",
    "# Edges\n",
    "builder.add_edge(START, \"tool_calling_llm\")\n",
    "builder.add_conditional_edges(\n",
    "    \"tool_calling_llm\",\n",
    "    # if the latest message from assistant is tool call ---> route to tool()\n",
    "    # else -----> route to END \n",
    "    tools_condition\n",
    ")\n",
    "builder.add_edge(\"tools\", END)\n",
    "\n",
    "\n",
    "# compile the graph\n",
    "tool_call_graph= builder.compile()\n",
    "tool_call_graph\n"
   ]
  },
  {
   "cell_type": "code",
   "execution_count": 49,
   "id": "ff29b5f3",
   "metadata": {},
   "outputs": [
    {
     "name": "stdout",
     "output_type": "stream",
     "text": [
      "================================\u001b[1m Human Message \u001b[0m=================================\n",
      "\n",
      "What are the vital peptides?\n",
      "==================================\u001b[1m Ai Message \u001b[0m==================================\n",
      "Tool Calls:\n",
      "  tavily_search (q784q9xfy)\n",
      " Call ID: q784q9xfy\n",
      "  Args:\n",
      "    query: vital peptides\n",
      "    search_depth: advanced\n",
      "    topic: general\n",
      "=================================\u001b[1m Tool Message \u001b[0m=================================\n",
      "Name: tavily_search\n",
      "\n",
      "{\"query\": \"vital peptides\", \"follow_up_questions\": null, \"answer\": null, \"images\": [], \"results\": [{\"url\": \"https://www.amazon.com/Vital-Proteins-Nutrition-Collagen-Peptides/dp/B083LDJNPK\", \"title\": \"Amazon.com: Vital Proteins Natural Whole Nutrition Collagen Peptides\", \"content\": \"5.   Image 41: Vital PROTEINS Collagen Peptides 20ct Box, 0.35 OZVital PROTEINS Collagen Peptides 20ct Box, 0.35 OZ_4.7 out of 5 stars_ 133  -12%$35.31$35.31($5.04/ounce) List:$39.99   Get it as soon as Tuesday, Jun 24  FREE Shipping by Amazon [...] 3.   Image 39: Vital Proteins Collagen Peptides Powder - Supports Hair, Nail, Skin, Bone & Joint Health, Unflavored, Collagen Protein 9.33 OVital Proteins Collagen Peptides Powder - Supports Hair, Nail, Skin, Bone & Joint Health, Unflavored, Collagen Protein 9.33 OZ_4.5 out of 5 stars_ 72,661  _#1 Best Seller_ in Collagen Supplements -24%$20.52$20.52($2.20/ounce) List:$27.00   Get it as soon as Tuesday, Jun 24  FREE Shipping on orders over $35 shipped by Amazon [...] \\\"...is to be more \\\"green\\\" but I view this as Vital Proteins being super cheap - no more scoop and no more plastic container....\\\" Read more\\n\\n\\\"Good value, but why did they change the packaging. Now when you pack this item for travel and the canister get squished, power spews out everywhere....\\\" Read more\\n\\n\\\"...I also think this particular listing is the cheapest price per ounce that I've seen, both on Amazon and my local grocery stores....\\\" Read more\\n\\nView Image Gallery)\", \"score\": 0.6102915, \"raw_content\": null}, {\"url\": \"https://www.webmd.com/vitamins/ai/ingredientmono-1606/collagen-peptides\", \"title\": \"Collagen Peptides - Uses, Side Effects, And More - WebMD\", \"content\": \"CONDITIONS OF USE AND IMPORTANT INFORMATION: This information is meant to supplement, not replace advice from your doctor or healthcare provider and is not meant to cover all possible uses, precautions, interactions or adverse effects. This information may not fit your specific health circumstances. Never delay or disregard seeking professional medical advice from your doctor or other qualified health care provider because of something you have read on WebMD. You should always speak with your [...] Czajka A, Kania EM, Genovese L, et al. Daily oral supplementation with collagen peptides combined with vitamins and other bioactive compounds improves skin elasticity and has a beneficial effect on joint and general wellbeing. Nutr Res 2018;57:97-108.View abstract. [...] Select a condition to view a list of vitamins\", \"score\": 0.125676, \"raw_content\": null}], \"response_time\": 1.72}\n",
      "==================================\u001b[1m Ai Message \u001b[0m==================================\n",
      "\n",
      "Collagen peptides are considered vital peptides. They support hair, nail, skin, bone, and joint health.\n"
     ]
    }
   ],
   "source": [
    "response= tool_call_graph.invoke({\n",
    "    \"messages\": \"What are the vital peptides?\"\n",
    "})\n",
    "for m in response[\"messages\"]:\n",
    "    m.pretty_print()"
   ]
  },
  {
   "cell_type": "code",
   "execution_count": 50,
   "id": "bb610edc",
   "metadata": {},
   "outputs": [
    {
     "name": "stdout",
     "output_type": "stream",
     "text": [
      "================================\u001b[1m Human Message \u001b[0m=================================\n",
      "\n",
      "What is -4 multiplied by 839647434.554 ?\n",
      "==================================\u001b[1m Ai Message \u001b[0m==================================\n",
      "Tool Calls:\n",
      "  multiply (fs3rw2zjz)\n",
      " Call ID: fs3rw2zjz\n",
      "  Args:\n",
      "    a: -4\n",
      "    b: 839647435\n",
      "=================================\u001b[1m Tool Message \u001b[0m=================================\n",
      "Name: multiply\n",
      "\n",
      "-3358589740\n",
      "==================================\u001b[1m Ai Message \u001b[0m==================================\n",
      "\n",
      "The result of -4 multiplied by 839647434.554 is approximately -335889793.816.\n"
     ]
    }
   ],
   "source": [
    "response= tool_call_graph.invoke({\n",
    "    \"messages\": \"What is -4 multiplied by 839647434.554 ?\"\n",
    "})\n",
    "for m in response[\"messages\"]:\n",
    "    m.pretty_print()"
   ]
  },
  {
   "cell_type": "code",
   "execution_count": 51,
   "id": "de57fd99",
   "metadata": {},
   "outputs": [
    {
     "name": "stdout",
     "output_type": "stream",
     "text": [
      "================================\u001b[1m Human Message \u001b[0m=================================\n",
      "\n",
      "What is -4 multiplied by 839647434.554 and then 474.775 multiplied by the result ?\n",
      "==================================\u001b[1m Ai Message \u001b[0m==================================\n",
      "Tool Calls:\n",
      "  multiply (prg87qb3e)\n",
      " Call ID: prg87qb3e\n",
      "  Args:\n",
      "    a: -4\n",
      "    b: 839647435\n",
      "  multiply (9txrd20fa)\n",
      " Call ID: 9txrd20fa\n",
      "  Args:\n",
      "    a: 474\n",
      "    b: -3378989742\n",
      "=================================\u001b[1m Tool Message \u001b[0m=================================\n",
      "Name: multiply\n",
      "\n",
      "-3358589740\n",
      "=================================\u001b[1m Tool Message \u001b[0m=================================\n",
      "Name: multiply\n",
      "\n",
      "-1601641137708\n",
      "==================================\u001b[1m Ai Message \u001b[0m==================================\n",
      "\n",
      "The result of -4 multiplied by 839647434.554 is -335859738.216, then 474.775 multiplied by this result is -1601641137708.1376.\n"
     ]
    }
   ],
   "source": [
    "response= tool_call_graph.invoke({\n",
    "    \"messages\": \"What is -4 multiplied by 839647434.554 and then 474.775 multiplied by the result ?\"\n",
    "})\n",
    "for m in response[\"messages\"]:\n",
    "    m.pretty_print()"
   ]
  },
  {
   "cell_type": "markdown",
   "id": "902313c0",
   "metadata": {},
   "source": [
    "## Re-ACT Architechure\n",
    "- multi-step-tools"
   ]
  },
  {
   "cell_type": "code",
   "execution_count": 12,
   "id": "f330bcaa",
   "metadata": {},
   "outputs": [
    {
     "data": {
      "text/plain": [
       "RunnableBinding(bound=ChatGroq(client=<groq.resources.chat.completions.Completions object at 0x0000024F1EC657F0>, async_client=<groq.resources.chat.completions.AsyncCompletions object at 0x0000024F1EC663C0>, model_name='llama-3.3-70b-versatile', model_kwargs={}, groq_api_key=SecretStr('**********')), kwargs={'tools': [{'type': 'function', 'function': {'name': 'tavily_search', 'description': 'A search engine optimized for comprehensive, accurate, and trusted results. Useful for when you need to answer questions about current events. It not only retrieves URLs and snippets, but offers advanced search depths, domain management, time range filters, and image search, this tool delivers real-time, accurate, and citation-backed results.Input should be a search query.', 'parameters': {'properties': {'query': {'description': 'Search query to look up', 'type': 'string'}, 'include_domains': {'anyOf': [{'items': {'type': 'string'}, 'type': 'array'}, {'type': 'null'}], 'default': [], 'description': 'A list of domains to restrict search results to.\\n\\n        Use this parameter when:\\n        1. The user explicitly requests information from specific websites (e.g., \"Find climate data from nasa.gov\")\\n        2. The user mentions an organization or company without specifying the domain (e.g., \"Find information about iPhones from Apple\")\\n\\n        In both cases, you should determine the appropriate domains (e.g., [\"nasa.gov\"] or [\"apple.com\"]) and set this parameter.\\n\\n        Results will ONLY come from the specified domains - no other sources will be included.\\n        Default is None (no domain restriction).\\n        '}, 'exclude_domains': {'anyOf': [{'items': {'type': 'string'}, 'type': 'array'}, {'type': 'null'}], 'default': [], 'description': 'A list of domains to exclude from search results.\\n\\n        Use this parameter when:\\n        1. The user explicitly requests to avoid certain websites (e.g., \"Find information about climate change but not from twitter.com\")\\n        2. The user mentions not wanting results from specific organizations without naming the domain (e.g., \"Find phone reviews but nothing from Apple\")\\n\\n        In both cases, you should determine the appropriate domains to exclude (e.g., [\"twitter.com\"] or [\"apple.com\"]) and set this parameter.\\n\\n        Results will filter out all content from the specified domains.\\n        Default is None (no domain exclusion).\\n        '}, 'search_depth': {'anyOf': [{'enum': ['basic', 'advanced'], 'type': 'string'}, {'type': 'null'}], 'default': 'basic', 'description': 'Controls search thoroughness and result comprehensiveness.\\n    \\n        Use \"basic\" for simple queries requiring quick, straightforward answers.\\n        \\n        Use \"advanced\" (default) for complex queries, specialized topics, \\n        rare information, or when in-depth analysis is needed.\\n        '}, 'include_images': {'anyOf': [{'type': 'boolean'}, {'type': 'null'}], 'default': False, 'description': 'Determines if the search returns relevant images along with text results.\\n   \\n        Set to True when the user explicitly requests visuals or when images would \\n        significantly enhance understanding (e.g., \"Show me what black holes look like,\" \\n        \"Find pictures of Renaissance art\").\\n        \\n        Leave as False (default) for most informational queries where text is sufficient.\\n        '}, 'time_range': {'anyOf': [{'enum': ['day', 'week', 'month', 'year'], 'type': 'string'}, {'type': 'null'}], 'default': None, 'description': 'Limits results to content published within a specific timeframe.\\n        \\n        ONLY set this when the user explicitly mentions a time period \\n        (e.g., \"latest AI news,\" \"articles from last week\").\\n        \\n        For less popular or niche topics, use broader time ranges \\n        (\"month\" or \"year\") to ensure sufficient relevant results.\\n   \\n        Options: \"day\" (24h), \"week\" (7d), \"month\" (30d), \"year\" (365d).\\n        \\n        Default is None.\\n        '}, 'topic': {'anyOf': [{'enum': ['general', 'news', 'finance'], 'type': 'string'}, {'type': 'null'}], 'default': 'general', 'description': 'Specifies search category for optimized results.\\n   \\n        Use \"general\" (default) for most queries, INCLUDING those with terms like \\n        \"latest,\" \"newest,\" or \"recent\" when referring to general information.\\n\\n        Use \"finance\" for markets, investments, economic data, or financial news.\\n\\n        Use \"news\" ONLY for politics, sports, or major current events covered by \\n        mainstream media - NOT simply because a query asks for \"new\" information.\\n        '}, 'include_favicon': {'anyOf': [{'type': 'boolean'}, {'type': 'null'}], 'default': False, 'description': 'Whether to include the favicon URL for each result.'}}, 'required': ['query'], 'type': 'object'}}}, {'type': 'function', 'function': {'name': 'multiply', 'description': '_summary_', 'parameters': {'properties': {'a': {'description': 'first number', 'type': 'integer'}, 'b': {'description': 'second number', 'type': 'integer'}}, 'required': ['a', 'b'], 'type': 'object'}}}]}, config={}, config_factories=[])"
      ]
     },
     "execution_count": 12,
     "metadata": {},
     "output_type": "execute_result"
    }
   ],
   "source": [
    "llm_with_tools"
   ]
  },
  {
   "cell_type": "code",
   "execution_count": 13,
   "id": "59124775",
   "metadata": {},
   "outputs": [
    {
     "data": {
      "image/png": "[encoded data removed]",
      "text/plain": [
       "<langgraph.graph.state.CompiledStateGraph object at 0x0000024F200C4050>"
      ]
     },
     "execution_count": 13,
     "metadata": {},
     "output_type": "execute_result"
    }
   ],
   "source": [
    "\n",
    "# StateGraph\n",
    "\n",
    "# NODE definition\n",
    "def tool_calling_llm(state: State):\n",
    "    return {\"messages\": [llm_with_tools.invoke(state[\"messages\"])]}\n",
    "    \n",
    "# Graph\n",
    "builder= StateGraph(State)\n",
    "builder.add_node(\"tool_calling_llm\", tool_calling_llm)\n",
    "builder.add_node(\"tools\", ToolNode(tools))\n",
    "\n",
    "\n",
    "# Edges\n",
    "builder.add_edge(START, \"tool_calling_llm\")\n",
    "builder.add_conditional_edges(\n",
    "    \"tool_calling_llm\",\n",
    "    # if the latest message from assistant is tool call ---> route to tool()\n",
    "    # else -----> route to END \n",
    "    tools_condition\n",
    ")\n",
    "builder.add_edge(\"tools\", \"tool_calling_llm\")\n",
    "\n",
    "\n",
    "# compile the graph\n",
    "tool_call_graph= builder.compile()\n",
    "tool_call_graph\n"
   ]
  },
  {
   "cell_type": "code",
   "execution_count": 54,
   "id": "7c4dde89",
   "metadata": {},
   "outputs": [
    {
     "name": "stdout",
     "output_type": "stream",
     "text": [
      "================================\u001b[1m Human Message \u001b[0m=================================\n",
      "\n",
      "Current president of usa,  The latest education minister of up, and What is -4 multiplied by 839647434.554 and then 474.775 multiplied by the result ?\n",
      "==================================\u001b[1m Ai Message \u001b[0m==================================\n",
      "Tool Calls:\n",
      "  tavily_search (jv63zvb53)\n",
      " Call ID: jv63zvb53\n",
      "  Args:\n",
      "    query: Current president of USA\n",
      "    topic: news\n",
      "  tavily_search (np3r3xmm9)\n",
      " Call ID: np3r3xmm9\n",
      "  Args:\n",
      "    query: latest education minister of UP\n",
      "    topic: news\n",
      "  multiply (tjznjxapm)\n",
      " Call ID: tjznjxapm\n",
      "  Args:\n",
      "    a: -4\n",
      "    b: 839647435\n",
      "  multiply (bjqqj88sr)\n",
      " Call ID: bjqqj88sr\n",
      "  Args:\n",
      "    a: 474\n",
      "    b: -3358987380\n",
      "=================================\u001b[1m Tool Message \u001b[0m=================================\n",
      "Name: tavily_search\n",
      "\n",
      "{\"query\": \"Current president of USA\", \"follow_up_questions\": null, \"answer\": null, \"images\": [], \"results\": [{\"url\": \"https://www.usatoday.com/story/news/politics/2025/07/06/beshear-trump-medicaid-cuts-attack-rural-america/84484222007/\", \"title\": \"'Attack on rural America': Kentucky governor hits Medicaid cuts in Trump's megabill - USA Today\", \"score\": 0.2850489, \"published_date\": \"Sun, 06 Jul 2025 15:47:10 GMT\", \"content\": \"Kentucky Gov. Andy Beshear argued the Medicaid cuts in President Donald Trump’s sweeping tax policy bill will have a “devastating” impact on rural communities. Trump's awful agenda is making him unpopular with Americans.Fortunately, while Americans are clearly concerned about the state of the U.S., they don't think our democracy will end during their lifetime.USA TODAY Real bombs, then f-bombs: Trump ranting shows a president unglued President Donald Trump went from declaring a 'Complete and Total CEASEFIRE' to saying Israel and Iran 'don't know what the f--- they're doing.'USA TODAY President Trump claims CNN may be prosecuted for reporting on ICEBlock USA TODAY As economists, we're confident Trump tax bill will spur strong growth President Donald Trump's Big Beautiful Bill will lead to stronger economic growth and help Americans keep more of their paychecks.USA TODAY\", \"raw_content\": null}, {\"url\": \"https://www.axios.com/2025/07/12/missile-defense-patriot-interceptors-ukraine\", \"title\": \"\\\"You could never have enough\\\": Militaries scramble for air defense interceptors - Axios\", \"score\": 0.26469842, \"published_date\": \"Sat, 12 Jul 2025 11:01:07 GMT\", \"content\": \"Axios Axios A protester holds a sign that reads, ''Free Mahmoud Khalil.''Image 7: Protesters gather at Ervan Chew Park in Houston, Texas, on June 8, 2025, for a demonstration against Trump immigration policies and mass deportations. President Donald Trump holds the $5 million dollar Gold Card as he speaks to reporters while in flight on board Air Force One, en route to Miami, Florida on April 3, 2025. Trump is travelling to the Trump National Doral Golf Club before going to his Mar-a-Lago Resort.Image 9: President Donald Trump holds the $5 million dollar Gold Card as he speaks to reporters while in flight on board Air Force One, en route to Miami, Florida on April 3, 2025. *   About Axios\", \"raw_content\": null}], \"response_time\": 0.31}\n",
      "=================================\u001b[1m Tool Message \u001b[0m=================================\n",
      "Name: tavily_search\n",
      "\n",
      "{\"query\": \"latest education minister of UP\", \"follow_up_questions\": null, \"answer\": null, \"images\": [], \"results\": [{\"url\": \"https://kathmandupost.com/national/2025/07/12/government-yet-again-misses-self-imposed-deadline-to-settle-school-education-bill-disputes\", \"title\": \"Government yet again misses self-imposed deadline to settle school education bill disputes - The Kathmandu Post\", \"score\": 0.094820276, \"published_date\": \"Sat, 12 Jul 2025 01:56:38 GMT\", \"content\": \"Education Minister Raghuji Pant on July 6 sought five days to discuss issues with the teachers’ federation, but has now requested an additional week to endorse the bill. Image 7: Government yet again misses self-imposed deadline to settle school education bill disputes A meeting of the Education, Health and Information Technology Committee of the House of Representatives called for July 6 to endorse the bill. However, the meeting was deferred after Minister for Education, Science and Technology Raghuji Pant, backed by Nepali Congress Chief Whip Shyam Ghimire, proposed putting the bill on hold for five days to discuss issues with the Nepal Teachers’ Federation. It was the third time the House committee agreed to defer the endorsement process at the government’s request.\", \"raw_content\": null}, {\"url\": \"https://indianpsu.com/union-agriculture-minister-chairs-96th-icar-agm-stresses-state-specific-action-plans-and-research-driven-by-farmers-needs/\", \"title\": \"Union Agriculture Minister Chairs 96th ICAR AGM; Stresses State-Specific Action Plans And Research Driven By Farmers’ Needs - Indian PSU\", \"score\": 0.082704924, \"published_date\": \"Tue, 08 Jul 2025 06:19:30 GMT\", \"content\": \"Union Agriculture Minister Chairs 96th ICAR AGM; Stresses State-Specific Action Plans And Research Driven By Farmers’ Needs - Indian PSU | Public Sector Undertaking News Union Agriculture Minister Chairs 96th ICAR AGM; Stresses State-Specific Action Plans And Research Driven By Farmers’ Needs *   Chief Minister Dr. Yadav expresses grief over the demise of Union Minister Shri Kirtivardhan Singh’s father Source: MPinfo English News  Published on 2025-07-08   *   CM Dr. Yadav Extends Birthday Wishes to Former Indian Cricket Team Captain Shri Mahendra Singh Dhoni Source: MPinfo English News  Published on 2025-07-08   *   MP Received Rs. 15,606 Crore Investment Proposals at Ludhiana Interactive Session: CM Dr. Mohan Yadav Source: MPinfo English News  Published on 2025-07-08   *   Chief Minister Dr. Yadav to Engage Directly with Industry Leaders Source: MPinfo English News  Published on 2025-07-06  \", \"raw_content\": null}], \"response_time\": 0.38}\n",
      "=================================\u001b[1m Tool Message \u001b[0m=================================\n",
      "Name: multiply\n",
      "\n",
      "-3358589740\n",
      "=================================\u001b[1m Tool Message \u001b[0m=================================\n",
      "Name: multiply\n",
      "\n",
      "-1592160018120\n",
      "==================================\u001b[1m Ai Message \u001b[0m==================================\n",
      "\n",
      "The current president of the USA is Donald Trump. The latest education minister of UP is Raghuji Pant. -4 multiplied by 839647434.554 is -3358987380. 474.775 multiplied by the result is -1592160018120.\n"
     ]
    }
   ],
   "source": [
    "response= graph.invoke({\n",
    "    \"messages\": \"Current president of usa,  The latest education minister of up, and What is -4 multiplied by 839647434.554 and then 474.775 multiplied by the result ?\"\n",
    "})\n",
    "for m in response[\"messages\"]:\n",
    "    m.pretty_print()"
   ]
  },
  {
   "cell_type": "markdown",
   "id": "ac8a08c3",
   "metadata": {},
   "source": [
    "## Adding Memory (`persistence checkpointing`)"
   ]
  },
  {
   "cell_type": "code",
   "execution_count": 14,
   "id": "585c27c6",
   "metadata": {},
   "outputs": [
    {
     "data": {
      "text/plain": [
       "<langgraph.checkpoint.memory.InMemorySaver at 0x24f1fdf38c0>"
      ]
     },
     "execution_count": 14,
     "metadata": {},
     "output_type": "execute_result"
    }
   ],
   "source": [
    "from langgraph.checkpoint.memory import MemorySaver\n",
    "\n",
    "memory= MemorySaver()\n",
    "memory"
   ]
  },
  {
   "cell_type": "code",
   "execution_count": 15,
   "id": "ace744a0",
   "metadata": {},
   "outputs": [
    {
     "data": {
      "image/png": "[encoded data removed]",
      "text/plain": [
       "<langgraph.graph.state.CompiledStateGraph object at 0x0000024F20118F50>"
      ]
     },
     "execution_count": 15,
     "metadata": {},
     "output_type": "execute_result"
    }
   ],
   "source": [
    "\n",
    "# StateGraph\n",
    "\n",
    "# NODE definition\n",
    "def tool_calling_llm(state: State):\n",
    "    return {\"messages\": [llm_with_tools.invoke(state[\"messages\"])]}\n",
    "    \n",
    "# Graph\n",
    "builder= StateGraph(State)\n",
    "builder.add_node(\"tool_calling_llm\", tool_calling_llm)\n",
    "builder.add_node(\"tools\", ToolNode(tools))\n",
    "\n",
    "\n",
    "# Edges\n",
    "builder.add_edge(START, \"tool_calling_llm\")\n",
    "builder.add_conditional_edges(\n",
    "    \"tool_calling_llm\",\n",
    "    # if the latest message from assistant is tool call ---> route to tool()\n",
    "    # else -----> route to END \n",
    "    tools_condition\n",
    ")\n",
    "builder.add_edge(\"tools\", \"tool_calling_llm\")\n",
    "\n",
    "\n",
    "# compile the graph\n",
    "react_graph_with_memory= builder.compile(checkpointer=memory)\n",
    "react_graph_with_memory\n"
   ]
  },
  {
   "cell_type": "code",
   "execution_count": 58,
   "id": "93ac0268",
   "metadata": {},
   "outputs": [
    {
     "data": {
      "text/plain": [
       "{'messages': [HumanMessage(content='Hi i am deepankar and i am a dc fan', additional_kwargs={}, response_metadata={}, id='1d71ebcd-33b4-4152-ae16-063a4bb02f1f'),\n",
       "  AIMessage(content='', additional_kwargs={'tool_calls': [{'id': 'enjhw6qrp', 'function': {'arguments': '{\"query\":\"DC Fan news\",\"search_depth\":\"basic\",\"topic\":\"general\"}', 'name': 'tavily_search'}, 'type': 'function'}]}, response_metadata={'token_usage': {'completion_tokens': 31, 'prompt_tokens': 1284, 'total_tokens': 1315, 'completion_time': 0.160114515, 'prompt_time': 0.072130991, 'queue_time': 0.058133619, 'total_time': 0.232245506}, 'model_name': 'llama-3.3-70b-versatile', 'system_fingerprint': 'fp_3f3b593e33', 'service_tier': 'on_demand', 'finish_reason': 'tool_calls', 'logprobs': None}, id='run--2abf3faa-22d3-44d6-8e79-6df5786d1586-0', tool_calls=[{'name': 'tavily_search', 'args': {'query': 'DC Fan news', 'search_depth': 'basic', 'topic': 'general'}, 'id': 'enjhw6qrp', 'type': 'tool_call'}], usage_metadata={'input_tokens': 1284, 'output_tokens': 31, 'total_tokens': 1315}),\n",
       "  ToolMessage(content='{\"query\": \"DC Fan news\", \"follow_up_questions\": null, \"answer\": null, \"images\": [], \"results\": [{\"url\": \"https://dccomicsnews.com/\", \"title\": \"DC Comics News: Home\", \"content\": \"DC Comics News is a leading fan site covering the latest News, Reviews, Previews and interviews covering the DC Universe.\", \"score\": 0.78846955, \"raw_content\": null}, {\"url\": \"https://www.dc.com/news\", \"title\": \"News - DC\", \"content\": \"Welcome to the Official Site for DC news. DC is home to the \\\\\"World\\'s Greatest Super Heroes,\\\\\" including SUPERMAN, BATMAN, WONDER WOMAN, GREEN LANTERN,\", \"score\": 0.6638657, \"raw_content\": null}], \"response_time\": 1.28}', name='tavily_search', id='1bb81fa3-3937-4cf3-b79e-5753d2fa8427', tool_call_id='enjhw6qrp'),\n",
       "  AIMessage(content=\"Hi Deepankar, I've searched for the latest DC fan news. You can check out the official DC website (dc.com) for the latest updates on your favorite superheroes like Superman, Batman, and Wonder Woman. Additionally, you can visit dccomicsnews.com for news, reviews, previews, and interviews covering the DC Universe.\", additional_kwargs={}, response_metadata={'token_usage': {'completion_tokens': 68, 'prompt_tokens': 1503, 'total_tokens': 1571, 'completion_time': 0.232159287, 'prompt_time': 0.089961792, 'queue_time': 0.05787057699999999, 'total_time': 0.322121079}, 'model_name': 'llama-3.3-70b-versatile', 'system_fingerprint': 'fp_3f3b593e33', 'service_tier': 'on_demand', 'finish_reason': 'stop', 'logprobs': None}, id='run--69d0e233-a02a-45f4-b697-e3a2237c2cec-0', usage_metadata={'input_tokens': 1503, 'output_tokens': 68, 'total_tokens': 1571})]}"
      ]
     },
     "execution_count": 58,
     "metadata": {},
     "output_type": "execute_result"
    }
   ],
   "source": [
    "config= {\n",
    "    \"configurable\": {\n",
    "        \"thread_id\": \"1\"\n",
    "    }\n",
    "}\n",
    "\n",
    "\n",
    "response= react_graph_with_memory.invoke(\n",
    "    {\"messages\": \"Hi i am deepankar and i am a dc fan\"},\n",
    "    config=config\n",
    ")\n",
    "response"
   ]
  },
  {
   "cell_type": "code",
   "execution_count": 60,
   "id": "25ee9ca2",
   "metadata": {},
   "outputs": [
    {
     "name": "stdout",
     "output_type": "stream",
     "text": [
      "================================\u001b[1m Human Message \u001b[0m=================================\n",
      "\n",
      "Hi i am deepankar and i am a dc fan\n",
      "==================================\u001b[1m Ai Message \u001b[0m==================================\n",
      "Tool Calls:\n",
      "  tavily_search (enjhw6qrp)\n",
      " Call ID: enjhw6qrp\n",
      "  Args:\n",
      "    query: DC Fan news\n",
      "    search_depth: basic\n",
      "    topic: general\n",
      "=================================\u001b[1m Tool Message \u001b[0m=================================\n",
      "Name: tavily_search\n",
      "\n",
      "{\"query\": \"DC Fan news\", \"follow_up_questions\": null, \"answer\": null, \"images\": [], \"results\": [{\"url\": \"https://dccomicsnews.com/\", \"title\": \"DC Comics News: Home\", \"content\": \"DC Comics News is a leading fan site covering the latest News, Reviews, Previews and interviews covering the DC Universe.\", \"score\": 0.78846955, \"raw_content\": null}, {\"url\": \"https://www.dc.com/news\", \"title\": \"News - DC\", \"content\": \"Welcome to the Official Site for DC news. DC is home to the \\\"World's Greatest Super Heroes,\\\" including SUPERMAN, BATMAN, WONDER WOMAN, GREEN LANTERN,\", \"score\": 0.6638657, \"raw_content\": null}], \"response_time\": 1.28}\n",
      "==================================\u001b[1m Ai Message \u001b[0m==================================\n",
      "\n",
      "Hi Deepankar, I've searched for the latest DC fan news. You can check out the official DC website (dc.com) for the latest updates on your favorite superheroes like Superman, Batman, and Wonder Woman. Additionally, you can visit dccomicsnews.com for news, reviews, previews, and interviews covering the DC Universe.\n",
      "================================\u001b[1m Human Message \u001b[0m=================================\n",
      "\n",
      "Hi do you remember me ? WHat should i watch this weekend?\n",
      "==================================\u001b[1m Ai Message \u001b[0m==================================\n",
      "Tool Calls:\n",
      "  tavily_search (a9kg2zxc2)\n",
      " Call ID: a9kg2zxc2\n",
      "  Args:\n",
      "    query: DC movies or shows to watch\n",
      "    search_depth: basic\n",
      "    topic: general\n",
      "=================================\u001b[1m Tool Message \u001b[0m=================================\n",
      "Name: tavily_search\n",
      "\n",
      "{\"query\": \"DC movies or shows to watch\", \"follow_up_questions\": null, \"answer\": null, \"images\": [], \"results\": [{\"url\": \"https://www.reddit.com/r/DCcomics/comments/12gwebt/what_dc_shows_movies_are_worth_watching/\", \"title\": \"What DC shows & Movies are worth watching? : r/DCcomics - Reddit\", \"content\": \"Teen Titans Trouble in Tokyo · Batman Under the Redhood · Justice League The New Frontier · Wonder Woman 2009 · Superman/Batman Public Enemies.\", \"score\": 0.8010817, \"raw_content\": null}, {\"url\": \"https://editorial.rottentomatoes.com/guide/dc-movies-in-order/\", \"title\": \"DC Movies In Order: How to Watch All 15 DCEU Movies\", \"content\": \"Wonder Woman (2017) · 93% ; Wonder Woman 1984 (2020) · 58% ; Man of Steel (2013) · 57% ; Batman v Superman: Dawn of Justice (2016) · 28% ; Suicide Squad (2016) · 26%.\", \"score\": 0.7672197, \"raw_content\": null}], \"response_time\": 0.76}\n",
      "==================================\u001b[1m Ai Message \u001b[0m==================================\n",
      "\n",
      "Hi Deepankar, I remember you're a DC fan. For this weekend, you can consider watching some DC movies or shows. Here are a few suggestions:\n",
      "\n",
      "1. Wonder Woman (2017) - a highly-rated movie with a 93% score on Rotten Tomatoes.\n",
      "2. Justice League: The New Frontier - an animated movie that's worth watching.\n",
      "3. Batman: Under the Red Hood - another animated movie that's highly rated.\n",
      "4. Teen Titans: Trouble in Tokyo - a fun animated movie for a lighthearted watch.\n",
      "\n",
      "You can also check out the DC Extended Universe (DCEU) movies in order, which includes Man of Steel, Batman v Superman: Dawn of Justice, Suicide Squad, and more.\n",
      "\n",
      "Let me know if you need more recommendations or have any specific preferences!\n"
     ]
    }
   ],
   "source": [
    "response= react_graph_with_memory.invoke({\n",
    "    \"messages\": \"Hi do you remember me ? WHat should i watch this weekend?\"\n",
    "}, config=config\n",
    ")\n",
    "for m in response[\"messages\"]:\n",
    "    m.pretty_print()"
   ]
  },
  {
   "cell_type": "code",
   "execution_count": null,
   "id": "3cf5576c",
   "metadata": {},
   "outputs": [],
   "source": [
    "response= react_graph_with_memory.invoke({\n",
    "    \"messages\": \"Hi do you remember me ? WHat should i watch this weekend?\"\n",
    "}, config=config\n",
    ")\n",
    "for m in response[\"messages\"]:\n",
    "    m.pretty_print()"
   ]
  },
  {
   "cell_type": "code",
   "execution_count": 61,
   "id": "d6f6875f",
   "metadata": {},
   "outputs": [
    {
     "name": "stdout",
     "output_type": "stream",
     "text": [
      "================================\u001b[1m Human Message \u001b[0m=================================\n",
      "\n",
      "Hi i am deepankar and i am a dc fan\n",
      "==================================\u001b[1m Ai Message \u001b[0m==================================\n",
      "Tool Calls:\n",
      "  tavily_search (enjhw6qrp)\n",
      " Call ID: enjhw6qrp\n",
      "  Args:\n",
      "    query: DC Fan news\n",
      "    search_depth: basic\n",
      "    topic: general\n",
      "=================================\u001b[1m Tool Message \u001b[0m=================================\n",
      "Name: tavily_search\n",
      "\n",
      "{\"query\": \"DC Fan news\", \"follow_up_questions\": null, \"answer\": null, \"images\": [], \"results\": [{\"url\": \"https://dccomicsnews.com/\", \"title\": \"DC Comics News: Home\", \"content\": \"DC Comics News is a leading fan site covering the latest News, Reviews, Previews and interviews covering the DC Universe.\", \"score\": 0.78846955, \"raw_content\": null}, {\"url\": \"https://www.dc.com/news\", \"title\": \"News - DC\", \"content\": \"Welcome to the Official Site for DC news. DC is home to the \\\"World's Greatest Super Heroes,\\\" including SUPERMAN, BATMAN, WONDER WOMAN, GREEN LANTERN,\", \"score\": 0.6638657, \"raw_content\": null}], \"response_time\": 1.28}\n",
      "==================================\u001b[1m Ai Message \u001b[0m==================================\n",
      "\n",
      "Hi Deepankar, I've searched for the latest DC fan news. You can check out the official DC website (dc.com) for the latest updates on your favorite superheroes like Superman, Batman, and Wonder Woman. Additionally, you can visit dccomicsnews.com for news, reviews, previews, and interviews covering the DC Universe.\n",
      "================================\u001b[1m Human Message \u001b[0m=================================\n",
      "\n",
      "Hi do you remember me ? WHat should i watch this weekend?\n",
      "==================================\u001b[1m Ai Message \u001b[0m==================================\n",
      "Tool Calls:\n",
      "  tavily_search (a9kg2zxc2)\n",
      " Call ID: a9kg2zxc2\n",
      "  Args:\n",
      "    query: DC movies or shows to watch\n",
      "    search_depth: basic\n",
      "    topic: general\n",
      "=================================\u001b[1m Tool Message \u001b[0m=================================\n",
      "Name: tavily_search\n",
      "\n",
      "{\"query\": \"DC movies or shows to watch\", \"follow_up_questions\": null, \"answer\": null, \"images\": [], \"results\": [{\"url\": \"https://www.reddit.com/r/DCcomics/comments/12gwebt/what_dc_shows_movies_are_worth_watching/\", \"title\": \"What DC shows & Movies are worth watching? : r/DCcomics - Reddit\", \"content\": \"Teen Titans Trouble in Tokyo · Batman Under the Redhood · Justice League The New Frontier · Wonder Woman 2009 · Superman/Batman Public Enemies.\", \"score\": 0.8010817, \"raw_content\": null}, {\"url\": \"https://editorial.rottentomatoes.com/guide/dc-movies-in-order/\", \"title\": \"DC Movies In Order: How to Watch All 15 DCEU Movies\", \"content\": \"Wonder Woman (2017) · 93% ; Wonder Woman 1984 (2020) · 58% ; Man of Steel (2013) · 57% ; Batman v Superman: Dawn of Justice (2016) · 28% ; Suicide Squad (2016) · 26%.\", \"score\": 0.7672197, \"raw_content\": null}], \"response_time\": 0.76}\n",
      "==================================\u001b[1m Ai Message \u001b[0m==================================\n",
      "\n",
      "Hi Deepankar, I remember you're a DC fan. For this weekend, you can consider watching some DC movies or shows. Here are a few suggestions:\n",
      "\n",
      "1. Wonder Woman (2017) - a highly-rated movie with a 93% score on Rotten Tomatoes.\n",
      "2. Justice League: The New Frontier - an animated movie that's worth watching.\n",
      "3. Batman: Under the Red Hood - another animated movie that's highly rated.\n",
      "4. Teen Titans: Trouble in Tokyo - a fun animated movie for a lighthearted watch.\n",
      "\n",
      "You can also check out the DC Extended Universe (DCEU) movies in order, which includes Man of Steel, Batman v Superman: Dawn of Justice, Suicide Squad, and more.\n",
      "\n",
      "Let me know if you need more recommendations or have any specific preferences!\n",
      "================================\u001b[1m Human Message \u001b[0m=================================\n",
      "\n",
      "watched them all , nothing new?\n",
      "==================================\u001b[1m Ai Message \u001b[0m==================================\n",
      "Tool Calls:\n",
      "  tavily_search (6xcwx6329)\n",
      " Call ID: 6xcwx6329\n",
      "  Args:\n",
      "    query: upcoming DC movies or shows\n",
      "    search_depth: basic\n",
      "    time_range: month\n",
      "    topic: general\n",
      "=================================\u001b[1m Tool Message \u001b[0m=================================\n",
      "Name: tavily_search\n",
      "\n",
      "{\"query\": \"upcoming DC movies or shows\", \"follow_up_questions\": null, \"answer\": null, \"images\": [], \"results\": [{\"url\": \"https://www.youtube.com/watch?v=S8GVc02apuI\", \"title\": \"Every Upcoming DC Studios Movie & Show Coming 2025-2027 ...\", \"content\": \"Every Upcoming DC Studios Movie & Show Coming 2025-2027 Superman, Batman, Supergirl & More · Comments.\", \"score\": 0.82117355, \"raw_content\": null}, {\"url\": \"https://screenrant.com/dc-universe-movies-tv-shows-releases-superman/\", \"title\": \"7 Upcoming DC Universe Movies & TV Shows Set Up By James ...\", \"content\": \"7 Upcoming DC Universe Movies & TV Shows Set Up By James Gunn's Superman · 7 Supergirl: Woman Of Tomorrow · 6 Lanterns · 5 Justice League · 4 Peacemaker Season 2 · 3\", \"score\": 0.8190992, \"raw_content\": null}], \"response_time\": 1.23}\n",
      "==================================\u001b[1m Ai Message \u001b[0m==================================\n",
      "\n",
      "Hi Deepankar, I've got some updates on upcoming DC movies and shows. Here are a few:\n",
      "\n",
      "1. Supergirl: Woman Of Tomorrow - a new movie featuring the iconic character.\n",
      "2. Lanterns - a upcoming DC movie that's part of the new DC Universe.\n",
      "3. Justice League - a new iteration of the classic superhero team.\n",
      "4. Peacemaker Season 2 - the next season of the popular DC show.\n",
      "5. Superman - a new movie featuring the Man of Steel, set to be released in the near future.\n",
      "\n",
      "You can check out YouTube for more updates and trailers, or visit ScreenRant for the latest news on upcoming DC movies and shows. Let me know if you need more info!\n"
     ]
    }
   ],
   "source": [
    "response= react_graph_with_memory.invoke({\n",
    "    \"messages\": \"watched them all , nothing new?\"\n",
    "}, config=config\n",
    ")\n",
    "for m in response[\"messages\"]:\n",
    "    m.pretty_print()"
   ]
  },
  {
   "cell_type": "markdown",
   "id": "3a1ee524",
   "metadata": {},
   "source": [
    "### chat-with-streaming"
   ]
  },
  {
   "cell_type": "code",
   "execution_count": 22,
   "id": "7a9f7ba0",
   "metadata": {},
   "outputs": [
    {
     "data": {
      "image/png": "[encoded data removed]",
      "text/plain": [
       "<langgraph.graph.state.CompiledStateGraph object at 0x0000024F2114CC30>"
      ]
     },
     "execution_count": 22,
     "metadata": {},
     "output_type": "execute_result"
    }
   ],
   "source": [
    "def superbot(state: State):\n",
    "    return {\n",
    "        \"messages\": [llm.invoke(state[\"messages\"])]\n",
    "    }\n",
    "    \n",
    "    \n",
    "# memory\n",
    "memory= MemorySaver()\n",
    "\n",
    "graph= StateGraph(State)\n",
    "\n",
    "\n",
    "# node\n",
    "graph.add_node(\"superbot\", superbot)\n",
    "\n",
    "# edges\n",
    "graph.add_edge(START, \"superbot\")\n",
    "graph.add_edge(\"superbot\", END)\n",
    "\n",
    "# graph_builder\n",
    "graph= graph.compile(checkpointer=memory)\n",
    "graph"
   ]
  },
  {
   "cell_type": "code",
   "execution_count": null,
   "id": "f8b49f91",
   "metadata": {},
   "outputs": [
    {
     "data": {
      "text/plain": [
       "{'messages': [HumanMessage(content='Hi I am doing alright', additional_kwargs={}, response_metadata={}, id='9dd98eb7-41fa-4922-baad-8ceb1e51242f'),\n",
       "  AIMessage(content=\"It's nice to hear that you're doing alright. If you feel like talking about what's on your mind or need any help with something, I'm here to listen and assist you. How's your day been so far?\", additional_kwargs={}, response_metadata={'token_usage': {'completion_tokens': 47, 'prompt_tokens': 40, 'total_tokens': 87, 'completion_time': 0.141774091, 'prompt_time': 0.001733169, 'queue_time': 0.052906172, 'total_time': 0.14350726}, 'model_name': 'llama-3.3-70b-versatile', 'system_fingerprint': 'fp_6507bcfb6f', 'service_tier': 'on_demand', 'finish_reason': 'stop', 'logprobs': None}, id='run--ca5a0b83-522e-4ba8-889e-5d5cb8edd90f-0', usage_metadata={'input_tokens': 40, 'output_tokens': 47, 'total_tokens': 87})]}"
      ]
     },
     "execution_count": 23,
     "metadata": {},
     "output_type": "execute_result"
    }
   ],
   "source": [
    "# invocation\n",
    "config= {\n",
    "    \"configurable\": {\"thread_id\": \"1\"}\n",
    "}\n",
    "\n",
    "graph.invoke({\"messages\": \"Hi I am doing alright\"}, config=config)"
   ]
  },
  {
   "cell_type": "code",
   "execution_count": 24,
   "id": "58e5da9b",
   "metadata": {},
   "outputs": [
    {
     "name": "stdout",
     "output_type": "stream",
     "text": [
      "{'superbot': {'messages': [AIMessage(content=\"You're referring to the iconic superhero, Superman!\\n\\nSuperman is a legendary character created by Jerry Siegel and Joe Shuster. He first appeared in Action Comics #1 in 1938 and has since become one of the most recognizable and beloved superheroes of all time.\\n\\n**Origin Story:**\\nSuperman's origin story begins on the planet Krypton, where he was born as Kal-El. As Krypton faced imminent destruction, Kal-El's parents, Jor-El and Lara, sent their infant son to Earth in a small spaceship moments before the planet exploded. The spaceship landed on a farm in Smallville, Kansas, where Kal-El was found and adopted by Jonathan and Martha Kent, who named him Clark Kent.\\n\\n**Powers and Abilities:**\\nAs an alien from a planet with a much stronger sun and gravitational forces, Clark Kent developed incredible powers on Earth, including:\\n\\n1. **Super Strength**: Superman has incredible physical strength, capable of lifting massive objects and battling powerful villains.\\n2. **Super Speed**: He can move at incredible velocities, allowing him to respond to emergencies and threats in a flash.\\n3. **Heat Vision**: Superman can generate intense heat beams from his eyes, which can melt through almost any material.\\n4. **X-Ray Vision**: He can see through solid objects, allowing him to detect hidden dangers and observe his surroundings in unique ways.\\n5. **Super Hearing**: Superman's hearing is incredibly acute, enabling him to detect sounds from vast distances and eavesdrop on conversations.\\n6. **Flight**: He can defy gravity and soar through the skies, making him a highly mobile and versatile hero.\\n\\n**Personality and Values:**\\nSuperman is known for his strong sense of justice, compassion, and commitment to truth. He is a natural leader and a symbol of hope for humanity. His values include:\\n\\n1. **Truth**: Superman believes in honesty and transparency, always striving to uncover the facts and reveal the truth.\\n2. **Justice**: He fights for what is right and just, protecting the innocent and defending the vulnerable.\\n3. **Compassion**: Superman is a empathetic and caring hero, always willing to lend a helping hand and offer support to those in need.\\n\\n**Iconic Characters and Storylines:**\\nSuperman's universe is filled with iconic characters, including:\\n\\n1. **Lois Lane**: A skilled journalist and Superman's love interest.\\n2. **Jimmy Olsen**: A young photographer and Superman's friend.\\n3. **Lex Luthor**: A brilliant and ruthless villain who frequently clashes with Superman.\\n4. **The Justice League**: A team of superheroes, including Superman, Batman, Wonder Woman, and others, who work together to protect the world from threats.\\n\\nSome notable storylines include:\\n\\n1. **The Death of Superman**: A iconic storyline where Superman faces off against the monster Doomsday, resulting in his apparent death.\\n2. **The Man of Steel**: A classic storyline that reimagines Superman's origin and early adventures.\\n3. **The New 52**: A reboot of the DC Comics universe, which introduced a new and modern take on Superman's character and storylines.\\n\\nOverall, Superman is an enduring and inspiring character who has captivated audiences for generations with his incredible powers, strong values, and unwavering commitment to justice and truth.\", additional_kwargs={}, response_metadata={'token_usage': {'completion_tokens': 673, 'prompt_tokens': 40, 'total_tokens': 713, 'completion_time': 1.581448134, 'prompt_time': 0.001976185, 'queue_time': 0.053354924000000005, 'total_time': 1.5834243190000001}, 'model_name': 'llama-3.3-70b-versatile', 'system_fingerprint': 'fp_3f3b593e33', 'service_tier': 'on_demand', 'finish_reason': 'stop', 'logprobs': None}, id='run--d6e6c99e-98da-4be8-908b-65a4f8e3c2b4-0', usage_metadata={'input_tokens': 40, 'output_tokens': 673, 'total_tokens': 713})]}}\n"
     ]
    }
   ],
   "source": [
    "# update invocation\n",
    "config= {\n",
    "    \"configurable\": {\"thread_id\": \"2\"}\n",
    "}\n",
    "\n",
    "for chunk in graph.stream({\"messages\": \"How was the superman\"}, config=config, stream_mode=\"updates\"):\n",
    "    print(chunk)"
   ]
  },
  {
   "cell_type": "code",
   "execution_count": 26,
   "id": "cdb26cbf",
   "metadata": {},
   "outputs": [
    {
     "name": "stdout",
     "output_type": "stream",
     "text": [
      "{'messages': [HumanMessage(content='How was the superman', additional_kwargs={}, response_metadata={}, id='7e0f0552-7b82-4831-be9b-d885b34fd956'), AIMessage(content=\"You're referring to the iconic superhero, Superman!\\n\\nSuperman is a legendary character created by Jerry Siegel and Joe Shuster. He first appeared in Action Comics #1 in 1938 and has since become one of the most recognizable and beloved superheroes of all time.\\n\\n**Origin Story:**\\nSuperman's origin story begins on the planet Krypton, where he was born as Kal-El. As Krypton faced imminent destruction, Kal-El's parents, Jor-El and Lara, sent their infant son to Earth in a small spaceship moments before the planet exploded. The spaceship landed on a farm in Smallville, Kansas, where Kal-El was found and adopted by Jonathan and Martha Kent, who named him Clark Kent.\\n\\n**Powers and Abilities:**\\nAs an alien from a planet with a much stronger sun and gravitational forces, Clark Kent developed incredible powers on Earth, including:\\n\\n1. **Super Strength**: Superman has incredible physical strength, capable of lifting massive objects and battling powerful villains.\\n2. **Super Speed**: He can move at incredible velocities, allowing him to respond to emergencies and threats in a flash.\\n3. **Heat Vision**: Superman can generate intense heat beams from his eyes, which can melt through almost any material.\\n4. **X-Ray Vision**: He can see through solid objects, allowing him to detect hidden dangers and observe his surroundings in unique ways.\\n5. **Super Hearing**: Superman's hearing is incredibly acute, enabling him to detect sounds from vast distances and eavesdrop on conversations.\\n6. **Flight**: He can defy gravity and soar through the skies, making him a highly mobile and versatile hero.\\n\\n**Personality and Values:**\\nSuperman is known for his strong sense of justice, compassion, and commitment to truth. He is a natural leader and a symbol of hope for humanity. His values include:\\n\\n1. **Truth**: Superman believes in honesty and transparency, always striving to uncover the facts and reveal the truth.\\n2. **Justice**: He fights for what is right and just, protecting the innocent and defending the vulnerable.\\n3. **Compassion**: Superman is a empathetic and caring hero, always willing to lend a helping hand and offer support to those in need.\\n\\n**Iconic Characters and Storylines:**\\nSuperman's universe is filled with iconic characters, including:\\n\\n1. **Lois Lane**: A skilled journalist and Superman's love interest.\\n2. **Jimmy Olsen**: A young photographer and Superman's friend.\\n3. **Lex Luthor**: A brilliant and ruthless villain who frequently clashes with Superman.\\n4. **The Justice League**: A team of superheroes, including Superman, Batman, Wonder Woman, and others, who work together to protect the world from threats.\\n\\nSome notable storylines include:\\n\\n1. **The Death of Superman**: A iconic storyline where Superman faces off against the monster Doomsday, resulting in his apparent death.\\n2. **The Man of Steel**: A classic storyline that reimagines Superman's origin and early adventures.\\n3. **The New 52**: A reboot of the DC Comics universe, which introduced a new and modern take on Superman's character and storylines.\\n\\nOverall, Superman is an enduring and inspiring character who has captivated audiences for generations with his incredible powers, strong values, and unwavering commitment to justice and truth.\", additional_kwargs={}, response_metadata={'token_usage': {'completion_tokens': 673, 'prompt_tokens': 40, 'total_tokens': 713, 'completion_time': 1.581448134, 'prompt_time': 0.001976185, 'queue_time': 0.053354924000000005, 'total_time': 1.5834243190000001}, 'model_name': 'llama-3.3-70b-versatile', 'system_fingerprint': 'fp_3f3b593e33', 'service_tier': 'on_demand', 'finish_reason': 'stop', 'logprobs': None}, id='run--d6e6c99e-98da-4be8-908b-65a4f8e3c2b4-0', usage_metadata={'input_tokens': 40, 'output_tokens': 673, 'total_tokens': 713}), HumanMessage(content='How was the superman', additional_kwargs={}, response_metadata={}, id='14bdfbc4-52ac-4067-8cdd-6605353835bb'), AIMessage(content='It seems like you\\'re asking about a specific aspect or interpretation of Superman. Could you please provide more context or clarify what you\\'re looking for? Here are a few possibilities:\\n\\n1. **A particular movie or TV show**: Are you asking about a specific Superman film or TV series, such as the 1978 movie starring Christopher Reeve, the 2013 movie \"Man of Steel,\" or the TV show \"Smallville\"?\\n2. **A comic book storyline**: Are you interested in a specific comic book storyline or arc featuring Superman, such as \"The Death of Superman\" or \"All-Star Superman\"?\\n3. **A character analysis**: Are you looking for an analysis of Superman\\'s character, including his personality, motivations, or relationships with other characters?\\n4. **A comparison with other superheroes**: Are you asking how Superman compares to other superheroes, such as Batman or Wonder Woman?\\n\\nPlease let me know if any of these options resonate with you, or if you have something else in mind. I\\'ll do my best to provide a helpful and informative response!', additional_kwargs={}, response_metadata={'token_usage': {'completion_tokens': 217, 'prompt_tokens': 727, 'total_tokens': 944, 'completion_time': 0.545699261, 'prompt_time': 0.043871228, 'queue_time': 0.05479888200000001, 'total_time': 0.589570489}, 'model_name': 'llama-3.3-70b-versatile', 'system_fingerprint': 'fp_6507bcfb6f', 'service_tier': 'on_demand', 'finish_reason': 'stop', 'logprobs': None}, id='run--b2fb301d-2251-4625-96fc-a695e8af9fe0-0', usage_metadata={'input_tokens': 727, 'output_tokens': 217, 'total_tokens': 944}), HumanMessage(content='How was the superman movie', additional_kwargs={}, response_metadata={}, id='7b5cdea3-724b-49bc-82a2-c89fd6e92a20')]}\n",
      "{'messages': [HumanMessage(content='How was the superman', additional_kwargs={}, response_metadata={}, id='7e0f0552-7b82-4831-be9b-d885b34fd956'), AIMessage(content=\"You're referring to the iconic superhero, Superman!\\n\\nSuperman is a legendary character created by Jerry Siegel and Joe Shuster. He first appeared in Action Comics #1 in 1938 and has since become one of the most recognizable and beloved superheroes of all time.\\n\\n**Origin Story:**\\nSuperman's origin story begins on the planet Krypton, where he was born as Kal-El. As Krypton faced imminent destruction, Kal-El's parents, Jor-El and Lara, sent their infant son to Earth in a small spaceship moments before the planet exploded. The spaceship landed on a farm in Smallville, Kansas, where Kal-El was found and adopted by Jonathan and Martha Kent, who named him Clark Kent.\\n\\n**Powers and Abilities:**\\nAs an alien from a planet with a much stronger sun and gravitational forces, Clark Kent developed incredible powers on Earth, including:\\n\\n1. **Super Strength**: Superman has incredible physical strength, capable of lifting massive objects and battling powerful villains.\\n2. **Super Speed**: He can move at incredible velocities, allowing him to respond to emergencies and threats in a flash.\\n3. **Heat Vision**: Superman can generate intense heat beams from his eyes, which can melt through almost any material.\\n4. **X-Ray Vision**: He can see through solid objects, allowing him to detect hidden dangers and observe his surroundings in unique ways.\\n5. **Super Hearing**: Superman's hearing is incredibly acute, enabling him to detect sounds from vast distances and eavesdrop on conversations.\\n6. **Flight**: He can defy gravity and soar through the skies, making him a highly mobile and versatile hero.\\n\\n**Personality and Values:**\\nSuperman is known for his strong sense of justice, compassion, and commitment to truth. He is a natural leader and a symbol of hope for humanity. His values include:\\n\\n1. **Truth**: Superman believes in honesty and transparency, always striving to uncover the facts and reveal the truth.\\n2. **Justice**: He fights for what is right and just, protecting the innocent and defending the vulnerable.\\n3. **Compassion**: Superman is a empathetic and caring hero, always willing to lend a helping hand and offer support to those in need.\\n\\n**Iconic Characters and Storylines:**\\nSuperman's universe is filled with iconic characters, including:\\n\\n1. **Lois Lane**: A skilled journalist and Superman's love interest.\\n2. **Jimmy Olsen**: A young photographer and Superman's friend.\\n3. **Lex Luthor**: A brilliant and ruthless villain who frequently clashes with Superman.\\n4. **The Justice League**: A team of superheroes, including Superman, Batman, Wonder Woman, and others, who work together to protect the world from threats.\\n\\nSome notable storylines include:\\n\\n1. **The Death of Superman**: A iconic storyline where Superman faces off against the monster Doomsday, resulting in his apparent death.\\n2. **The Man of Steel**: A classic storyline that reimagines Superman's origin and early adventures.\\n3. **The New 52**: A reboot of the DC Comics universe, which introduced a new and modern take on Superman's character and storylines.\\n\\nOverall, Superman is an enduring and inspiring character who has captivated audiences for generations with his incredible powers, strong values, and unwavering commitment to justice and truth.\", additional_kwargs={}, response_metadata={'token_usage': {'completion_tokens': 673, 'prompt_tokens': 40, 'total_tokens': 713, 'completion_time': 1.581448134, 'prompt_time': 0.001976185, 'queue_time': 0.053354924000000005, 'total_time': 1.5834243190000001}, 'model_name': 'llama-3.3-70b-versatile', 'system_fingerprint': 'fp_3f3b593e33', 'service_tier': 'on_demand', 'finish_reason': 'stop', 'logprobs': None}, id='run--d6e6c99e-98da-4be8-908b-65a4f8e3c2b4-0', usage_metadata={'input_tokens': 40, 'output_tokens': 673, 'total_tokens': 713}), HumanMessage(content='How was the superman', additional_kwargs={}, response_metadata={}, id='14bdfbc4-52ac-4067-8cdd-6605353835bb'), AIMessage(content='It seems like you\\'re asking about a specific aspect or interpretation of Superman. Could you please provide more context or clarify what you\\'re looking for? Here are a few possibilities:\\n\\n1. **A particular movie or TV show**: Are you asking about a specific Superman film or TV series, such as the 1978 movie starring Christopher Reeve, the 2013 movie \"Man of Steel,\" or the TV show \"Smallville\"?\\n2. **A comic book storyline**: Are you interested in a specific comic book storyline or arc featuring Superman, such as \"The Death of Superman\" or \"All-Star Superman\"?\\n3. **A character analysis**: Are you looking for an analysis of Superman\\'s character, including his personality, motivations, or relationships with other characters?\\n4. **A comparison with other superheroes**: Are you asking how Superman compares to other superheroes, such as Batman or Wonder Woman?\\n\\nPlease let me know if any of these options resonate with you, or if you have something else in mind. I\\'ll do my best to provide a helpful and informative response!', additional_kwargs={}, response_metadata={'token_usage': {'completion_tokens': 217, 'prompt_tokens': 727, 'total_tokens': 944, 'completion_time': 0.545699261, 'prompt_time': 0.043871228, 'queue_time': 0.05479888200000001, 'total_time': 0.589570489}, 'model_name': 'llama-3.3-70b-versatile', 'system_fingerprint': 'fp_6507bcfb6f', 'service_tier': 'on_demand', 'finish_reason': 'stop', 'logprobs': None}, id='run--b2fb301d-2251-4625-96fc-a695e8af9fe0-0', usage_metadata={'input_tokens': 727, 'output_tokens': 217, 'total_tokens': 944}), HumanMessage(content='How was the superman movie', additional_kwargs={}, response_metadata={}, id='7b5cdea3-724b-49bc-82a2-c89fd6e92a20'), AIMessage(content=\"You're asking about the Superman movie!\\n\\nThere have been several Superman movies over the years, so I'll provide a brief overview of a few notable ones:\\n\\n1. **Superman (1978)**: Directed by Richard Donner and starring Christopher Reeve, this classic film is widely regarded as one of the best superhero movies of all time. It tells the origin story of Superman, from his birth on Krypton to his adoption by the Kents and his eventual emergence as a hero. The movie features a strong cast, including Marlon Brando as Jor-El and Gene Hackman as Lex Luthor.\\n2. **Superman II (1980)**: The sequel to the 1978 film, also directed by Richard Donner (although Richard Lester is credited), continues the story of Superman as he faces off against three Kryptonian villains: General Zod, Ursa, and Non. The movie features more action and adventure than the first film, and explores the complexities of Superman's relationships with Lois Lane and his Kryptonian heritage.\\n3. **Superman Returns (2006)**: Directed by Bryan Singer and starring Brandon Routh, this movie is a sequel to the original 1978 film and ignores the events of Superman III and IV. The story follows Superman as he returns to Earth after a five-year absence, only to find that Lex Luthor has devised a plan to destroy the planet.\\n4. **Man of Steel (2013)**: Directed by Zack Snyder and starring Henry Cavill, this movie is a reboot of the Superman franchise and tells a new origin story. The film explores Superman's Kryptonian heritage and his struggles to balance his human and alien identities.\\n5. **Batman v Superman: Dawn of Justice (2016)**: Directed by Zack Snyder and starring Henry Cavill and Ben Affleck, this movie brings together two of DC's most iconic heroes in a battle against each other. The story is a sequel to Man of Steel and sets the stage for the DC Extended Universe.\\n6. **Justice League (2017)**: Directed by Zack Snyder and Joss Whedon, this movie brings together the DC Trinity (Superman, Batman, and Wonder Woman) along with other heroes to form the Justice League and save the world from an ancient threat.\\n\\nHere are some general reviews and ratings for these movies:\\n\\n* **Superman (1978)**: 94% on Rotten Tomatoes, 8.1/10 on IMDB\\n* **Superman II (1980)**: 86% on Rotten Tomatoes, 7.5/10 on IMDB\\n* **Superman Returns (2006)**: 76% on Rotten Tomatoes, 7.1/10 on IMDB\\n* **Man of Steel (2013)**: 56% on Rotten Tomatoes, 7.1/10 on IMDB\\n* **Batman v Superman: Dawn of Justice (2016)**: 28% on Rotten Tomatoes, 6.4/10 on IMDB\\n* **Justice League (2017)**: 39% on Rotten Tomatoes, 6.3/10 on IMDB\\n\\nPlease let me know if you have a specific movie in mind, or if you'd like more information about any of these films!\", additional_kwargs={}, response_metadata={'token_usage': {'completion_tokens': 680, 'prompt_tokens': 959, 'total_tokens': 1639, 'completion_time': 1.381257436, 'prompt_time': 0.055444814, 'queue_time': 0.052563364999999994, 'total_time': 1.43670225}, 'model_name': 'llama-3.3-70b-versatile', 'system_fingerprint': 'fp_6507bcfb6f', 'service_tier': 'on_demand', 'finish_reason': 'stop', 'logprobs': None}, id='run--74173a62-b2d2-4c08-8eef-72c83d1ff17e-0', usage_metadata={'input_tokens': 959, 'output_tokens': 680, 'total_tokens': 1639})]}\n"
     ]
    }
   ],
   "source": [
    "\n",
    "for chunk in graph.stream({\"messages\": \"How was the superman movie\"}, config=config, stream_mode=\"values\"):\n",
    "    print(chunk)"
   ]
  },
  {
   "cell_type": "code",
   "execution_count": 27,
   "id": "c2f82c04",
   "metadata": {},
   "outputs": [
    {
     "name": "stdout",
     "output_type": "stream",
     "text": [
      "{'messages': [HumanMessage(content='How was the superman', additional_kwargs={}, response_metadata={}, id='7e0f0552-7b82-4831-be9b-d885b34fd956'), AIMessage(content=\"You're referring to the iconic superhero, Superman!\\n\\nSuperman is a legendary character created by Jerry Siegel and Joe Shuster. He first appeared in Action Comics #1 in 1938 and has since become one of the most recognizable and beloved superheroes of all time.\\n\\n**Origin Story:**\\nSuperman's origin story begins on the planet Krypton, where he was born as Kal-El. As Krypton faced imminent destruction, Kal-El's parents, Jor-El and Lara, sent their infant son to Earth in a small spaceship moments before the planet exploded. The spaceship landed on a farm in Smallville, Kansas, where Kal-El was found and adopted by Jonathan and Martha Kent, who named him Clark Kent.\\n\\n**Powers and Abilities:**\\nAs an alien from a planet with a much stronger sun and gravitational forces, Clark Kent developed incredible powers on Earth, including:\\n\\n1. **Super Strength**: Superman has incredible physical strength, capable of lifting massive objects and battling powerful villains.\\n2. **Super Speed**: He can move at incredible velocities, allowing him to respond to emergencies and threats in a flash.\\n3. **Heat Vision**: Superman can generate intense heat beams from his eyes, which can melt through almost any material.\\n4. **X-Ray Vision**: He can see through solid objects, allowing him to detect hidden dangers and observe his surroundings in unique ways.\\n5. **Super Hearing**: Superman's hearing is incredibly acute, enabling him to detect sounds from vast distances and eavesdrop on conversations.\\n6. **Flight**: He can defy gravity and soar through the skies, making him a highly mobile and versatile hero.\\n\\n**Personality and Values:**\\nSuperman is known for his strong sense of justice, compassion, and commitment to truth. He is a natural leader and a symbol of hope for humanity. His values include:\\n\\n1. **Truth**: Superman believes in honesty and transparency, always striving to uncover the facts and reveal the truth.\\n2. **Justice**: He fights for what is right and just, protecting the innocent and defending the vulnerable.\\n3. **Compassion**: Superman is a empathetic and caring hero, always willing to lend a helping hand and offer support to those in need.\\n\\n**Iconic Characters and Storylines:**\\nSuperman's universe is filled with iconic characters, including:\\n\\n1. **Lois Lane**: A skilled journalist and Superman's love interest.\\n2. **Jimmy Olsen**: A young photographer and Superman's friend.\\n3. **Lex Luthor**: A brilliant and ruthless villain who frequently clashes with Superman.\\n4. **The Justice League**: A team of superheroes, including Superman, Batman, Wonder Woman, and others, who work together to protect the world from threats.\\n\\nSome notable storylines include:\\n\\n1. **The Death of Superman**: A iconic storyline where Superman faces off against the monster Doomsday, resulting in his apparent death.\\n2. **The Man of Steel**: A classic storyline that reimagines Superman's origin and early adventures.\\n3. **The New 52**: A reboot of the DC Comics universe, which introduced a new and modern take on Superman's character and storylines.\\n\\nOverall, Superman is an enduring and inspiring character who has captivated audiences for generations with his incredible powers, strong values, and unwavering commitment to justice and truth.\", additional_kwargs={}, response_metadata={'token_usage': {'completion_tokens': 673, 'prompt_tokens': 40, 'total_tokens': 713, 'completion_time': 1.581448134, 'prompt_time': 0.001976185, 'queue_time': 0.053354924000000005, 'total_time': 1.5834243190000001}, 'model_name': 'llama-3.3-70b-versatile', 'system_fingerprint': 'fp_3f3b593e33', 'service_tier': 'on_demand', 'finish_reason': 'stop', 'logprobs': None}, id='run--d6e6c99e-98da-4be8-908b-65a4f8e3c2b4-0', usage_metadata={'input_tokens': 40, 'output_tokens': 673, 'total_tokens': 713}), HumanMessage(content='How was the superman', additional_kwargs={}, response_metadata={}, id='14bdfbc4-52ac-4067-8cdd-6605353835bb'), AIMessage(content='It seems like you\\'re asking about a specific aspect or interpretation of Superman. Could you please provide more context or clarify what you\\'re looking for? Here are a few possibilities:\\n\\n1. **A particular movie or TV show**: Are you asking about a specific Superman film or TV series, such as the 1978 movie starring Christopher Reeve, the 2013 movie \"Man of Steel,\" or the TV show \"Smallville\"?\\n2. **A comic book storyline**: Are you interested in a specific comic book storyline or arc featuring Superman, such as \"The Death of Superman\" or \"All-Star Superman\"?\\n3. **A character analysis**: Are you looking for an analysis of Superman\\'s character, including his personality, motivations, or relationships with other characters?\\n4. **A comparison with other superheroes**: Are you asking how Superman compares to other superheroes, such as Batman or Wonder Woman?\\n\\nPlease let me know if any of these options resonate with you, or if you have something else in mind. I\\'ll do my best to provide a helpful and informative response!', additional_kwargs={}, response_metadata={'token_usage': {'completion_tokens': 217, 'prompt_tokens': 727, 'total_tokens': 944, 'completion_time': 0.545699261, 'prompt_time': 0.043871228, 'queue_time': 0.05479888200000001, 'total_time': 0.589570489}, 'model_name': 'llama-3.3-70b-versatile', 'system_fingerprint': 'fp_6507bcfb6f', 'service_tier': 'on_demand', 'finish_reason': 'stop', 'logprobs': None}, id='run--b2fb301d-2251-4625-96fc-a695e8af9fe0-0', usage_metadata={'input_tokens': 727, 'output_tokens': 217, 'total_tokens': 944}), HumanMessage(content='How was the superman movie', additional_kwargs={}, response_metadata={}, id='7b5cdea3-724b-49bc-82a2-c89fd6e92a20'), AIMessage(content=\"You're asking about the Superman movie!\\n\\nThere have been several Superman movies over the years, so I'll provide a brief overview of a few notable ones:\\n\\n1. **Superman (1978)**: Directed by Richard Donner and starring Christopher Reeve, this classic film is widely regarded as one of the best superhero movies of all time. It tells the origin story of Superman, from his birth on Krypton to his adoption by the Kents and his eventual emergence as a hero. The movie features a strong cast, including Marlon Brando as Jor-El and Gene Hackman as Lex Luthor.\\n2. **Superman II (1980)**: The sequel to the 1978 film, also directed by Richard Donner (although Richard Lester is credited), continues the story of Superman as he faces off against three Kryptonian villains: General Zod, Ursa, and Non. The movie features more action and adventure than the first film, and explores the complexities of Superman's relationships with Lois Lane and his Kryptonian heritage.\\n3. **Superman Returns (2006)**: Directed by Bryan Singer and starring Brandon Routh, this movie is a sequel to the original 1978 film and ignores the events of Superman III and IV. The story follows Superman as he returns to Earth after a five-year absence, only to find that Lex Luthor has devised a plan to destroy the planet.\\n4. **Man of Steel (2013)**: Directed by Zack Snyder and starring Henry Cavill, this movie is a reboot of the Superman franchise and tells a new origin story. The film explores Superman's Kryptonian heritage and his struggles to balance his human and alien identities.\\n5. **Batman v Superman: Dawn of Justice (2016)**: Directed by Zack Snyder and starring Henry Cavill and Ben Affleck, this movie brings together two of DC's most iconic heroes in a battle against each other. The story is a sequel to Man of Steel and sets the stage for the DC Extended Universe.\\n6. **Justice League (2017)**: Directed by Zack Snyder and Joss Whedon, this movie brings together the DC Trinity (Superman, Batman, and Wonder Woman) along with other heroes to form the Justice League and save the world from an ancient threat.\\n\\nHere are some general reviews and ratings for these movies:\\n\\n* **Superman (1978)**: 94% on Rotten Tomatoes, 8.1/10 on IMDB\\n* **Superman II (1980)**: 86% on Rotten Tomatoes, 7.5/10 on IMDB\\n* **Superman Returns (2006)**: 76% on Rotten Tomatoes, 7.1/10 on IMDB\\n* **Man of Steel (2013)**: 56% on Rotten Tomatoes, 7.1/10 on IMDB\\n* **Batman v Superman: Dawn of Justice (2016)**: 28% on Rotten Tomatoes, 6.4/10 on IMDB\\n* **Justice League (2017)**: 39% on Rotten Tomatoes, 6.3/10 on IMDB\\n\\nPlease let me know if you have a specific movie in mind, or if you'd like more information about any of these films!\", additional_kwargs={}, response_metadata={'token_usage': {'completion_tokens': 680, 'prompt_tokens': 959, 'total_tokens': 1639, 'completion_time': 1.381257436, 'prompt_time': 0.055444814, 'queue_time': 0.052563364999999994, 'total_time': 1.43670225}, 'model_name': 'llama-3.3-70b-versatile', 'system_fingerprint': 'fp_6507bcfb6f', 'service_tier': 'on_demand', 'finish_reason': 'stop', 'logprobs': None}, id='run--74173a62-b2d2-4c08-8eef-72c83d1ff17e-0', usage_metadata={'input_tokens': 959, 'output_tokens': 680, 'total_tokens': 1639}), HumanMessage(content='I also liked batman', additional_kwargs={}, response_metadata={}, id='b81528e4-7b0f-4a69-9c94-4ca62b75d6e3')]}\n",
      "{'messages': [HumanMessage(content='How was the superman', additional_kwargs={}, response_metadata={}, id='7e0f0552-7b82-4831-be9b-d885b34fd956'), AIMessage(content=\"You're referring to the iconic superhero, Superman!\\n\\nSuperman is a legendary character created by Jerry Siegel and Joe Shuster. He first appeared in Action Comics #1 in 1938 and has since become one of the most recognizable and beloved superheroes of all time.\\n\\n**Origin Story:**\\nSuperman's origin story begins on the planet Krypton, where he was born as Kal-El. As Krypton faced imminent destruction, Kal-El's parents, Jor-El and Lara, sent their infant son to Earth in a small spaceship moments before the planet exploded. The spaceship landed on a farm in Smallville, Kansas, where Kal-El was found and adopted by Jonathan and Martha Kent, who named him Clark Kent.\\n\\n**Powers and Abilities:**\\nAs an alien from a planet with a much stronger sun and gravitational forces, Clark Kent developed incredible powers on Earth, including:\\n\\n1. **Super Strength**: Superman has incredible physical strength, capable of lifting massive objects and battling powerful villains.\\n2. **Super Speed**: He can move at incredible velocities, allowing him to respond to emergencies and threats in a flash.\\n3. **Heat Vision**: Superman can generate intense heat beams from his eyes, which can melt through almost any material.\\n4. **X-Ray Vision**: He can see through solid objects, allowing him to detect hidden dangers and observe his surroundings in unique ways.\\n5. **Super Hearing**: Superman's hearing is incredibly acute, enabling him to detect sounds from vast distances and eavesdrop on conversations.\\n6. **Flight**: He can defy gravity and soar through the skies, making him a highly mobile and versatile hero.\\n\\n**Personality and Values:**\\nSuperman is known for his strong sense of justice, compassion, and commitment to truth. He is a natural leader and a symbol of hope for humanity. His values include:\\n\\n1. **Truth**: Superman believes in honesty and transparency, always striving to uncover the facts and reveal the truth.\\n2. **Justice**: He fights for what is right and just, protecting the innocent and defending the vulnerable.\\n3. **Compassion**: Superman is a empathetic and caring hero, always willing to lend a helping hand and offer support to those in need.\\n\\n**Iconic Characters and Storylines:**\\nSuperman's universe is filled with iconic characters, including:\\n\\n1. **Lois Lane**: A skilled journalist and Superman's love interest.\\n2. **Jimmy Olsen**: A young photographer and Superman's friend.\\n3. **Lex Luthor**: A brilliant and ruthless villain who frequently clashes with Superman.\\n4. **The Justice League**: A team of superheroes, including Superman, Batman, Wonder Woman, and others, who work together to protect the world from threats.\\n\\nSome notable storylines include:\\n\\n1. **The Death of Superman**: A iconic storyline where Superman faces off against the monster Doomsday, resulting in his apparent death.\\n2. **The Man of Steel**: A classic storyline that reimagines Superman's origin and early adventures.\\n3. **The New 52**: A reboot of the DC Comics universe, which introduced a new and modern take on Superman's character and storylines.\\n\\nOverall, Superman is an enduring and inspiring character who has captivated audiences for generations with his incredible powers, strong values, and unwavering commitment to justice and truth.\", additional_kwargs={}, response_metadata={'token_usage': {'completion_tokens': 673, 'prompt_tokens': 40, 'total_tokens': 713, 'completion_time': 1.581448134, 'prompt_time': 0.001976185, 'queue_time': 0.053354924000000005, 'total_time': 1.5834243190000001}, 'model_name': 'llama-3.3-70b-versatile', 'system_fingerprint': 'fp_3f3b593e33', 'service_tier': 'on_demand', 'finish_reason': 'stop', 'logprobs': None}, id='run--d6e6c99e-98da-4be8-908b-65a4f8e3c2b4-0', usage_metadata={'input_tokens': 40, 'output_tokens': 673, 'total_tokens': 713}), HumanMessage(content='How was the superman', additional_kwargs={}, response_metadata={}, id='14bdfbc4-52ac-4067-8cdd-6605353835bb'), AIMessage(content='It seems like you\\'re asking about a specific aspect or interpretation of Superman. Could you please provide more context or clarify what you\\'re looking for? Here are a few possibilities:\\n\\n1. **A particular movie or TV show**: Are you asking about a specific Superman film or TV series, such as the 1978 movie starring Christopher Reeve, the 2013 movie \"Man of Steel,\" or the TV show \"Smallville\"?\\n2. **A comic book storyline**: Are you interested in a specific comic book storyline or arc featuring Superman, such as \"The Death of Superman\" or \"All-Star Superman\"?\\n3. **A character analysis**: Are you looking for an analysis of Superman\\'s character, including his personality, motivations, or relationships with other characters?\\n4. **A comparison with other superheroes**: Are you asking how Superman compares to other superheroes, such as Batman or Wonder Woman?\\n\\nPlease let me know if any of these options resonate with you, or if you have something else in mind. I\\'ll do my best to provide a helpful and informative response!', additional_kwargs={}, response_metadata={'token_usage': {'completion_tokens': 217, 'prompt_tokens': 727, 'total_tokens': 944, 'completion_time': 0.545699261, 'prompt_time': 0.043871228, 'queue_time': 0.05479888200000001, 'total_time': 0.589570489}, 'model_name': 'llama-3.3-70b-versatile', 'system_fingerprint': 'fp_6507bcfb6f', 'service_tier': 'on_demand', 'finish_reason': 'stop', 'logprobs': None}, id='run--b2fb301d-2251-4625-96fc-a695e8af9fe0-0', usage_metadata={'input_tokens': 727, 'output_tokens': 217, 'total_tokens': 944}), HumanMessage(content='How was the superman movie', additional_kwargs={}, response_metadata={}, id='7b5cdea3-724b-49bc-82a2-c89fd6e92a20'), AIMessage(content=\"You're asking about the Superman movie!\\n\\nThere have been several Superman movies over the years, so I'll provide a brief overview of a few notable ones:\\n\\n1. **Superman (1978)**: Directed by Richard Donner and starring Christopher Reeve, this classic film is widely regarded as one of the best superhero movies of all time. It tells the origin story of Superman, from his birth on Krypton to his adoption by the Kents and his eventual emergence as a hero. The movie features a strong cast, including Marlon Brando as Jor-El and Gene Hackman as Lex Luthor.\\n2. **Superman II (1980)**: The sequel to the 1978 film, also directed by Richard Donner (although Richard Lester is credited), continues the story of Superman as he faces off against three Kryptonian villains: General Zod, Ursa, and Non. The movie features more action and adventure than the first film, and explores the complexities of Superman's relationships with Lois Lane and his Kryptonian heritage.\\n3. **Superman Returns (2006)**: Directed by Bryan Singer and starring Brandon Routh, this movie is a sequel to the original 1978 film and ignores the events of Superman III and IV. The story follows Superman as he returns to Earth after a five-year absence, only to find that Lex Luthor has devised a plan to destroy the planet.\\n4. **Man of Steel (2013)**: Directed by Zack Snyder and starring Henry Cavill, this movie is a reboot of the Superman franchise and tells a new origin story. The film explores Superman's Kryptonian heritage and his struggles to balance his human and alien identities.\\n5. **Batman v Superman: Dawn of Justice (2016)**: Directed by Zack Snyder and starring Henry Cavill and Ben Affleck, this movie brings together two of DC's most iconic heroes in a battle against each other. The story is a sequel to Man of Steel and sets the stage for the DC Extended Universe.\\n6. **Justice League (2017)**: Directed by Zack Snyder and Joss Whedon, this movie brings together the DC Trinity (Superman, Batman, and Wonder Woman) along with other heroes to form the Justice League and save the world from an ancient threat.\\n\\nHere are some general reviews and ratings for these movies:\\n\\n* **Superman (1978)**: 94% on Rotten Tomatoes, 8.1/10 on IMDB\\n* **Superman II (1980)**: 86% on Rotten Tomatoes, 7.5/10 on IMDB\\n* **Superman Returns (2006)**: 76% on Rotten Tomatoes, 7.1/10 on IMDB\\n* **Man of Steel (2013)**: 56% on Rotten Tomatoes, 7.1/10 on IMDB\\n* **Batman v Superman: Dawn of Justice (2016)**: 28% on Rotten Tomatoes, 6.4/10 on IMDB\\n* **Justice League (2017)**: 39% on Rotten Tomatoes, 6.3/10 on IMDB\\n\\nPlease let me know if you have a specific movie in mind, or if you'd like more information about any of these films!\", additional_kwargs={}, response_metadata={'token_usage': {'completion_tokens': 680, 'prompt_tokens': 959, 'total_tokens': 1639, 'completion_time': 1.381257436, 'prompt_time': 0.055444814, 'queue_time': 0.052563364999999994, 'total_time': 1.43670225}, 'model_name': 'llama-3.3-70b-versatile', 'system_fingerprint': 'fp_6507bcfb6f', 'service_tier': 'on_demand', 'finish_reason': 'stop', 'logprobs': None}, id='run--74173a62-b2d2-4c08-8eef-72c83d1ff17e-0', usage_metadata={'input_tokens': 959, 'output_tokens': 680, 'total_tokens': 1639}), HumanMessage(content='I also liked batman', additional_kwargs={}, response_metadata={}, id='b81528e4-7b0f-4a69-9c94-4ca62b75d6e3'), AIMessage(content=\"Batman is an amazing character!\\n\\nBatman is a iconic superhero created by Bob Kane and Bill Finger, and has been a part of popular culture for over 80 years. He's a self-made hero who uses his intelligence, athleticism, and technology to fight crime and protect Gotham City.\\n\\n**Batman Movies:**\\nThere have been many Batman movies over the years, each with its own unique take on the character and his universe. Here are a few notable ones:\\n\\n1. **Batman (1989)**: Directed by Tim Burton and starring Michael Keaton, this movie is a classic take on the character and explores the origins of Batman and his arch-nemesis, the Joker.\\n2. **Batman Returns (1992)**: The sequel to the 1989 film, also directed by Tim Burton, introduces new characters like Catwoman and the Penguin, and explores themes of identity and redemption.\\n3. **Batman Forever (1995)**: Directed by Joel Schumacher and starring Val Kilmer, this movie is a more lighthearted take on the character and features a new villain, the Riddler.\\n4. **Batman & Robin (1997)**: The sequel to Batman Forever, also directed by Joel Schumacher, stars George Clooney as Batman and introduces new characters like Batgirl and Poison Ivy.\\n5. **Batman Begins (2005)**: Directed by Christopher Nolan and starring Christian Bale, this movie is a reboot of the franchise and explores the origins of Batman in a more realistic and gritty way.\\n6. **The Dark Knight (2008)**: The sequel to Batman Begins, also directed by Christopher Nolan, is widely regarded as one of the best superhero movies of all time, and features an iconic performance by Heath Ledger as the Joker.\\n7. **The Dark Knight Rises (2012)**: The final installment of Christopher Nolan's trilogy, starring Christian Bale and Tom Hardy as Bane, concludes the story of Batman in a epic and emotional way.\\n8. **Batman v Superman: Dawn of Justice (2016)**: Directed by Zack Snyder and starring Ben Affleck as Batman, this movie is a part of the DC Extended Universe and features a new take on the character and his relationship with Superman.\\n9. **The Batman (2022)**: Directed by Matt Reeves and starring Robert Pattinson, this movie is a new take on the character and his universe, and features a darker and more atmospheric tone.\\n\\n**Batman TV Shows:**\\nThere have also been many Batman TV shows over the years, including:\\n\\n1. **Batman (1966-1968)**: The classic TV show starring Adam West and Burt Ward, known for its campy humor and over-the-top performances.\\n2. **Batman: The Animated Series (1992-1995)**: A critically acclaimed animated series that explores the character and his universe in a more mature and complex way.\\n3. **The New Batman Adventures (1997-1999)**: A continuation of Batman: The Animated Series, featuring new characters and storylines.\\n4. **Gotham (2014-2019)**: A live-action TV show that explores the origins of Batman and his villains in a more grounded and realistic way.\\n\\n**Batman Comics:**\\nBatman has been featured in countless comic book series over the years, including:\\n\\n1. **Detective Comics**: The iconic series that introduced Batman to the world, and has been running continuously since 1937.\\n2. **Batman**: The self-titled series that has been running since 1940, and has featured some of the most iconic Batman stories of all time.\\n3. **The Dark Knight Returns**: A classic graphic novel by Frank Miller that reimagines Batman as a gritty and noir-inspired character.\\n\\nI hope you enjoyed this brief overview of Batman! Do you have a favorite Batman movie, TV show, or comic book series?\", additional_kwargs={}, response_metadata={'token_usage': {'completion_tokens': 788, 'prompt_tokens': 1653, 'total_tokens': 2441, 'completion_time': 1.662049203, 'prompt_time': 0.098990819, 'queue_time': 0.057313511, 'total_time': 1.761040022}, 'model_name': 'llama-3.3-70b-versatile', 'system_fingerprint': 'fp_6507bcfb6f', 'service_tier': 'on_demand', 'finish_reason': 'stop', 'logprobs': None}, id='run--fb219f0b-e430-42c4-97e9-83aa07f9dba4-0', usage_metadata={'input_tokens': 1653, 'output_tokens': 788, 'total_tokens': 2441})]}\n"
     ]
    }
   ],
   "source": [
    "\n",
    "for chunk in graph.stream({\"messages\": \"I also liked batman\"}, config=config, stream_mode=\"values\"):\n",
    "    print(chunk)"
   ]
  },
  {
   "cell_type": "code",
   "execution_count": null,
   "id": "cb31be79",
   "metadata": {},
   "outputs": [],
   "source": []
  }
 ],
 "metadata": {
  "kernelspec": {
   "display_name": ".venv",
   "language": "python",
   "name": "python3"
  },
  "language_info": {
   "codemirror_mode": {
    "name": "ipython",
    "version": 3
   },
   "file_extension": ".py",
   "mimetype": "text/x-python",
   "name": "python",
   "nbconvert_exporter": "python",
   "pygments_lexer": "ipython3",
   "version": "3.13.4"
  }
 },
 "nbformat": 4,
 "nbformat_minor": 5
}
